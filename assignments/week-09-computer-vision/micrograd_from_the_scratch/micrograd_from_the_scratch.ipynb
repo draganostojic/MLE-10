{
  "nbformat": 4,
  "nbformat_minor": 0,
  "metadata": {
    "colab": {
      "provenance": []
    },
    "kernelspec": {
      "name": "python3",
      "display_name": "Python 3"
    },
    "language_info": {
      "name": "python"
    }
  },
  "cells": [
    {
      "cell_type": "code",
      "execution_count": 1,
      "metadata": {
        "id": "zUEdpsdYgT9g"
      },
      "outputs": [],
      "source": [
        "import numpy as np\n",
        "\n",
        "def f(x):\n",
        "  return 3*x**2 - 4*x + 5"
      ]
    },
    {
      "cell_type": "code",
      "source": [
        "xs = np.arange(-5, 5, 0.25)\n",
        "xs\n",
        "ys = f(xs)\n",
        "ys"
      ],
      "metadata": {
        "colab": {
          "base_uri": "https://localhost:8080/"
        },
        "id": "SqZxF9q_gwn-",
        "outputId": "1818961d-67ed-4d82-e563-29e5745c5c27"
      },
      "execution_count": 2,
      "outputs": [
        {
          "output_type": "execute_result",
          "data": {
            "text/plain": [
              "array([100.    ,  91.6875,  83.75  ,  76.1875,  69.    ,  62.1875,\n",
              "        55.75  ,  49.6875,  44.    ,  38.6875,  33.75  ,  29.1875,\n",
              "        25.    ,  21.1875,  17.75  ,  14.6875,  12.    ,   9.6875,\n",
              "         7.75  ,   6.1875,   5.    ,   4.1875,   3.75  ,   3.6875,\n",
              "         4.    ,   4.6875,   5.75  ,   7.1875,   9.    ,  11.1875,\n",
              "        13.75  ,  16.6875,  20.    ,  23.6875,  27.75  ,  32.1875,\n",
              "        37.    ,  42.1875,  47.75  ,  53.6875])"
            ]
          },
          "metadata": {},
          "execution_count": 2
        }
      ]
    },
    {
      "cell_type": "code",
      "source": [
        "import matplotlib.pyplot as plt\n",
        "\n",
        "plt.plot(xs, ys)"
      ],
      "metadata": {
        "colab": {
          "base_uri": "https://localhost:8080/",
          "height": 282
        },
        "id": "fe4kx_-XhEDg",
        "outputId": "45471794-039f-455e-9888-adbf62cac035"
      },
      "execution_count": 3,
      "outputs": [
        {
          "output_type": "execute_result",
          "data": {
            "text/plain": [
              "[<matplotlib.lines.Line2D at 0x7f604b998580>]"
            ]
          },
          "metadata": {},
          "execution_count": 3
        },
        {
          "output_type": "display_data",
          "data": {
            "text/plain": [
              "<Figure size 432x288 with 1 Axes>"
            ],
            "image/png": "[encoded data removed]"
          },
          "metadata": {
            "needs_background": "light"
          }
        }
      ]
    },
    {
      "cell_type": "code",
      "source": [
        "h = 0.000001\n",
        "x = 2/3\n",
        "(f(x+h) - f(x))/h"
      ],
      "metadata": {
        "colab": {
          "base_uri": "https://localhost:8080/"
        },
        "id": "vERwGfcLhRQi",
        "outputId": "99a0f2fe-663e-40e8-f10a-13078248b365"
      },
      "execution_count": 4,
      "outputs": [
        {
          "output_type": "execute_result",
          "data": {
            "text/plain": [
              "2.999378523327323e-06"
            ]
          },
          "metadata": {},
          "execution_count": 4
        }
      ]
    },
    {
      "cell_type": "code",
      "source": [
        "\n",
        "h = 0.0001\n",
        "\n",
        "# inputs\n",
        "a = 2.0\n",
        "b = -3.0\n",
        "c = 10.0\n",
        "\n",
        "d1 = a*b + c\n",
        "c += h\n",
        "d2 = a*b + c\n",
        "\n",
        "print('d1', d1)\n",
        "print('d2', d2)\n",
        "print('slope', (d2 - d1)/h)"
      ],
      "metadata": {
        "colab": {
          "base_uri": "https://localhost:8080/"
        },
        "id": "0HXqAcutjUVZ",
        "outputId": "8dd6c046-739a-4b05-f44a-d886ee5cb73e"
      },
      "execution_count": 5,
      "outputs": [
        {
          "output_type": "stream",
          "name": "stdout",
          "text": [
            "d1 4.0\n",
            "d2 4.0001\n",
            "slope 0.9999999999976694\n"
          ]
        }
      ]
    },
    {
      "cell_type": "code",
      "source": [
        "from posixpath import relpath\n",
        "from logging import setLogRecordFactory\n",
        "import math\n",
        "\n",
        "class Value:\n",
        "  \n",
        "  def __init__(self, data, _children=(), _op='', label=''):\n",
        "    self.data = data\n",
        "    self.grad = 0.0\n",
        "    self._prev = set(_children)\n",
        "    self._op = _op\n",
        "    self.label = label\n",
        "    self._backward = lambda : None\n",
        "\n",
        "  def __repr__(self):\n",
        "    return f\"Value(data={self.data})\"\n",
        "\n",
        "  def __add__(self, other):\n",
        "    other = other if isinstance(other, Value) else Value(other)\n",
        "    out = Value(self.data + other.data, (self, other), '+')\n",
        "    \n",
        "    def _backward() :\n",
        "      self.grad += 1.0 * out.grad\n",
        "      other.grad += 1.0 * out.grad\n",
        "    \n",
        "    out._backward = _backward\n",
        "    \n",
        "    return out\n",
        "\n",
        "  def __radd__(self, other):\n",
        "    return self + other\n",
        "\n",
        "  def backward(self) :\n",
        "    topo = []\n",
        "    visited = set()\n",
        "    def build_topo(v):\n",
        "        if v not in visited:\n",
        "            visited.add(v)\n",
        "            for child in v._prev:\n",
        "                build_topo(child)\n",
        "            topo.append(v)\n",
        "\n",
        "    build_topo(self)\n",
        "    self.grad = 1.0\n",
        "\n",
        "    for node in reversed(topo):\n",
        "        node._backward()\n",
        "\n",
        "  def __mul__(self, other):\n",
        "    other = other if isinstance(other, Value) else Value(other)\n",
        "    out = Value(self.data * other.data, (self, other), '*')\n",
        "\n",
        "    def _backward() :\n",
        "      self.grad += other.data * out.grad\n",
        "      other.grad += self.data * out.grad\n",
        "    \n",
        "    out._backward = _backward\n",
        "    \n",
        "    return out\n",
        "\n",
        "  def __pow__(self, other):\n",
        "    assert isinstance(other, (int, float)), \"only supporting int/float powers\"\n",
        "    out = Value(self.data ** other, (self,), f'**{other}')\n",
        "\n",
        "    def _backward() :\n",
        "      self.grad += other * self.data**(other-1) * out.grad\n",
        "    \n",
        "    out._backward = _backward\n",
        "    \n",
        "    return out\n",
        "\n",
        "  def tanh(self):\n",
        "    n = self.data\n",
        "    t = (math.exp(2*n)-1)/(math.exp(2*n)+1)\n",
        "    out = Value(t, (self, ), 'tanh')\n",
        "\n",
        "    def _backward() :\n",
        "      self.grad += (1-t**2) * out.grad\n",
        "\n",
        "    out._backward = _backward\n",
        "\n",
        "    return out\n",
        "\n",
        "  def exp(self):\n",
        "    n = self.data\n",
        "    t = math.exp(n)\n",
        "    out = Value(t, (self, ), 'exp')\n",
        "\n",
        "    def _backward() :\n",
        "      self.grad += t * out.grad\n",
        "\n",
        "    out._backward = _backward   \n",
        "    \n",
        "    return out\n",
        "\n",
        "    def __neg__(self): # -self\n",
        "        return self * -1\n",
        "\n",
        "    def __radd__(self, other): # other + self\n",
        "        return self + other\n",
        "\n",
        "    def __sub__(self, other): # self - other\n",
        "        return self + (-other)\n",
        "\n",
        "    def __rsub__(self, other): # other - self\n",
        "        return other + (-self)\n",
        "\n",
        "    def __rmul__(self, other): # other * self\n",
        "        return self * other\n",
        "\n",
        "    def __truediv__(self, other): # self / other\n",
        "        return self * other**-1\n",
        "\n",
        "    def __rtruediv__(self, other): # other / self\n",
        "        return other * self**-1"
      ],
      "metadata": {
        "id": "YHaPikHumAsC"
      },
      "execution_count": 290,
      "outputs": []
    },
    {
      "cell_type": "code",
      "source": [
        "-1.0 + Value(2.0)"
      ],
      "metadata": {
        "colab": {
          "base_uri": "https://localhost:8080/"
        },
        "id": "iUFInuEAIGGI",
        "outputId": "09941b85-da0c-4380-c9a7-637ff3db98c9"
      },
      "execution_count": 291,
      "outputs": [
        {
          "output_type": "execute_result",
          "data": {
            "text/plain": [
              "Value(data=1.0)"
            ]
          },
          "metadata": {},
          "execution_count": 291
        }
      ]
    },
    {
      "cell_type": "code",
      "source": [
        "Value(2.0) + 1.0"
      ],
      "metadata": {
        "colab": {
          "base_uri": "https://localhost:8080/"
        },
        "id": "f5L6ruN3IKTs",
        "outputId": "fcd9a469-eb67-4608-fee2-f1b0a75d3032"
      },
      "execution_count": 292,
      "outputs": [
        {
          "output_type": "execute_result",
          "data": {
            "text/plain": [
              "Value(data=3.0)"
            ]
          },
          "metadata": {},
          "execution_count": 292
        }
      ]
    },
    {
      "cell_type": "code",
      "source": [
        "Value(1.0)*-1"
      ],
      "metadata": {
        "colab": {
          "base_uri": "https://localhost:8080/"
        },
        "id": "G_WZR4WMI04a",
        "outputId": "60dbf718-9626-4d13-9fe8-bdcc6fc1f177"
      },
      "execution_count": 295,
      "outputs": [
        {
          "output_type": "execute_result",
          "data": {
            "text/plain": [
              "Value(data=-1.0)"
            ]
          },
          "metadata": {},
          "execution_count": 295
        }
      ]
    },
    {
      "cell_type": "code",
      "source": [
        "a = Value(2.0, label='a')\n",
        "b = Value(-3.0, label='b')\n",
        "c = Value(10.0, label='c')\n",
        "e = a*b\n",
        "e.label = 'e'\n",
        "d= e + c; d.label = 'd'\n",
        "f = Value(-2.0, label='f')\n",
        "L = d * f; L.label = 'L'\n",
        "L"
      ],
      "metadata": {
        "colab": {
          "base_uri": "https://localhost:8080/"
        },
        "id": "HUGz4yvImtMg",
        "outputId": "7786e09d-fcf1-4b37-80a8-3171a0b4b1c8"
      },
      "execution_count": 93,
      "outputs": [
        {
          "output_type": "execute_result",
          "data": {
            "text/plain": [
              "Value(data=-8.0)"
            ]
          },
          "metadata": {},
          "execution_count": 93
        }
      ]
    },
    {
      "cell_type": "code",
      "source": [
        "a.data += a.grad * 0.01\n",
        "b.data += b.grad * 0.01\n",
        "c.data += c.grad * 0.01\n",
        "f.data += f.grad * 0.01\n",
        "\n",
        "e = a * b\n",
        "d = e + c\n",
        "L = d * f\n",
        "print(L.data)"
      ],
      "metadata": {
        "colab": {
          "base_uri": "https://localhost:8080/"
        },
        "id": "BcCuuEHiBdHw",
        "outputId": "7c1c18fd-aebc-4efd-c10f-f2e16d7a216b"
      },
      "execution_count": 94,
      "outputs": [
        {
          "output_type": "stream",
          "name": "stdout",
          "text": [
            "-8.0\n"
          ]
        }
      ]
    },
    {
      "cell_type": "code",
      "source": [
        "from graphviz import Digraph"
      ],
      "metadata": {
        "id": "roxIhPvhtGpK"
      },
      "execution_count": 95,
      "outputs": []
    },
    {
      "cell_type": "code",
      "source": [
        "def trace(root):\n",
        "    nodes, edges = set(), set()\n",
        "    def build(v):\n",
        "        if v not in nodes:\n",
        "            nodes.add(v)\n",
        "            for child in v._prev:\n",
        "                edges.add((child, v))\n",
        "                build(child)\n",
        "    build(root)\n",
        "    return nodes, edges\n",
        "\n",
        "def draw_dot(root, format='svg', rankdir='LR'):\n",
        "    \"\"\"\n",
        "    format: png | svg | ...\n",
        "    rankdir: TB (top to bottom graph) | LR (left to right)\n",
        "    \"\"\"\n",
        "    assert rankdir in ['LR', 'TB']\n",
        "    nodes, edges = trace(root)\n",
        "    dot = Digraph(format=format, graph_attr={'rankdir': rankdir}) #, node_attr={'rankdir': 'TB'})\n",
        "    \n",
        "    for n in nodes:\n",
        "        dot.node(name=str(id(n)), label = \"{ %s | data %.4f | grad %.4f }\" % (n.label, n.data, n.grad), shape='record')\n",
        "        if n._op:\n",
        "            dot.node(name=str(id(n)) + n._op, label=n._op)\n",
        "            dot.edge(str(id(n)) + n._op, str(id(n)))\n",
        "    \n",
        "    for n1, n2 in edges:\n",
        "        dot.edge(str(id(n1)), str(id(n2)) + n2._op)\n",
        "    \n",
        "    return dot"
      ],
      "metadata": {
        "id": "MIvhz39ZtH-1"
      },
      "execution_count": 96,
      "outputs": []
    },
    {
      "cell_type": "code",
      "source": [
        "draw_dot(L)"
      ],
      "metadata": {
        "colab": {
          "base_uri": "https://localhost:8080/",
          "height": 229
        },
        "id": "aYrDQlPftLyJ",
        "outputId": "243489d6-6f29-4307-9c31-fc39d8436138"
      },
      "execution_count": 97,
      "outputs": [
        {
          "output_type": "execute_result",
          "data": {
            "text/plain": [
              "<graphviz.dot.Digraph at 0x7f60422548e0>"
            ],
            "image/svg+xml": "<?xml version=\"1.0\" encoding=\"UTF-8\" standalone=\"no\"?>\n<!DOCTYPE svg PUBLIC \"-//W3C//DTD SVG 1.1//EN\"\n \"http://www.w3.org/Graphics/SVG/1.1/DTD/svg11.dtd\">\n<!-- Generated by graphviz version 2.40.1 (20161225.0304)\n -->\n<!-- Title: %3 Pages: 1 -->\n<svg width=\"1181pt\" height=\"156pt\"\n viewBox=\"0.00 0.00 1181.00 156.00\" xmlns=\"http://www.w3.org/2000/svg\" xmlns:xlink=\"http://www.w3.org/1999/xlink\">\n<g id=\"graph0\" class=\"graph\" transform=\"scale(1 1) rotate(0) translate(4 152)\">\n<title>%3</title>\n<polygon fill=\"#ffffff\" stroke=\"transparent\" points=\"-4,4 -4,-152 1177,-152 1177,4 -4,4\"/>\n<!-- 140051402974880 -->\n<g id=\"node1\" class=\"node\">\n<title>140051402974880</title>\n<polygon fill=\"none\" stroke=\"#000000\" points=\"2.5,-111.5 2.5,-147.5 197.5,-147.5 197.5,-111.5 2.5,-111.5\"/>\n<text text-anchor=\"middle\" x=\"14\" y=\"-125.8\" font-family=\"Times,serif\" font-size=\"14.00\" fill=\"#000000\">a</text>\n<polyline fill=\"none\" stroke=\"#000000\" points=\"25.5,-111.5 25.5,-147.5 \"/>\n<text text-anchor=\"middle\" x=\"68\" y=\"-125.8\" font-family=\"Times,serif\" font-size=\"14.00\" fill=\"#000000\">data 2.0000</text>\n<polyline fill=\"none\" stroke=\"#000000\" points=\"110.5,-111.5 110.5,-147.5 \"/>\n<text text-anchor=\"middle\" x=\"154\" y=\"-125.8\" font-family=\"Times,serif\" font-size=\"14.00\" fill=\"#000000\">grad 0.0000</text>\n</g>\n<!-- 140051561775600* -->\n<g id=\"node10\" class=\"node\">\n<title>140051561775600*</title>\n<ellipse fill=\"none\" stroke=\"#000000\" cx=\"263\" cy=\"-101.5\" rx=\"27\" ry=\"18\"/>\n<text text-anchor=\"middle\" x=\"263\" y=\"-97.8\" font-family=\"Times,serif\" font-size=\"14.00\" fill=\"#000000\">*</text>\n</g>\n<!-- 140051402974880&#45;&gt;140051561775600* -->\n<g id=\"edge8\" class=\"edge\">\n<title>140051402974880&#45;&gt;140051561775600*</title>\n<path fill=\"none\" stroke=\"#000000\" d=\"M197.6409,-112.7273C207.9722,-110.9526 217.943,-109.2399 226.8529,-107.7093\"/>\n<polygon fill=\"#000000\" stroke=\"#000000\" points=\"227.5199,-111.1461 236.783,-106.0035 226.3347,-104.2471 227.5199,-111.1461\"/>\n</g>\n<!-- 140051402973392 -->\n<g id=\"node2\" class=\"node\">\n<title>140051402973392</title>\n<polygon fill=\"none\" stroke=\"#000000\" points=\"654,-.5 654,-36.5 851,-36.5 851,-.5 654,-.5\"/>\n<text text-anchor=\"middle\" x=\"664.5\" y=\"-14.8\" font-family=\"Times,serif\" font-size=\"14.00\" fill=\"#000000\">f</text>\n<polyline fill=\"none\" stroke=\"#000000\" points=\"675,-.5 675,-36.5 \"/>\n<text text-anchor=\"middle\" x=\"719.5\" y=\"-14.8\" font-family=\"Times,serif\" font-size=\"14.00\" fill=\"#000000\">data &#45;2.0000</text>\n<polyline fill=\"none\" stroke=\"#000000\" points=\"764,-.5 764,-36.5 \"/>\n<text text-anchor=\"middle\" x=\"807.5\" y=\"-14.8\" font-family=\"Times,serif\" font-size=\"14.00\" fill=\"#000000\">grad 0.0000</text>\n</g>\n<!-- 140051402975456* -->\n<g id=\"node4\" class=\"node\">\n<title>140051402975456*</title>\n<ellipse fill=\"none\" stroke=\"#000000\" cx=\"914\" cy=\"-45.5\" rx=\"27\" ry=\"18\"/>\n<text text-anchor=\"middle\" x=\"914\" y=\"-41.8\" font-family=\"Times,serif\" font-size=\"14.00\" fill=\"#000000\">*</text>\n</g>\n<!-- 140051402973392&#45;&gt;140051402975456* -->\n<g id=\"edge4\" class=\"edge\">\n<title>140051402973392&#45;&gt;140051402975456*</title>\n<path fill=\"none\" stroke=\"#000000\" d=\"M851.0974,-34.9838C860.4127,-36.5411 869.3943,-38.0427 877.5123,-39.3999\"/>\n<polygon fill=\"#000000\" stroke=\"#000000\" points=\"877.2018,-42.8965 887.6421,-41.0934 878.3562,-35.9923 877.2018,-42.8965\"/>\n</g>\n<!-- 140051402975456 -->\n<g id=\"node3\" class=\"node\">\n<title>140051402975456</title>\n<polygon fill=\"none\" stroke=\"#000000\" points=\"977,-27.5 977,-63.5 1173,-63.5 1173,-27.5 977,-27.5\"/>\n<text text-anchor=\"middle\" x=\"987\" y=\"-41.8\" font-family=\"Times,serif\" font-size=\"14.00\" fill=\"#000000\"> </text>\n<polyline fill=\"none\" stroke=\"#000000\" points=\"997,-27.5 997,-63.5 \"/>\n<text text-anchor=\"middle\" x=\"1041.5\" y=\"-41.8\" font-family=\"Times,serif\" font-size=\"14.00\" fill=\"#000000\">data &#45;8.0000</text>\n<polyline fill=\"none\" stroke=\"#000000\" points=\"1086,-27.5 1086,-63.5 \"/>\n<text text-anchor=\"middle\" x=\"1129.5\" y=\"-41.8\" font-family=\"Times,serif\" font-size=\"14.00\" fill=\"#000000\">grad 0.0000</text>\n</g>\n<!-- 140051402975456*&#45;&gt;140051402975456 -->\n<g id=\"edge1\" class=\"edge\">\n<title>140051402975456*&#45;&gt;140051402975456</title>\n<path fill=\"none\" stroke=\"#000000\" d=\"M941.3115,-45.5C948.8223,-45.5 957.4512,-45.5 966.6318,-45.5\"/>\n<polygon fill=\"#000000\" stroke=\"#000000\" points=\"966.7835,-49.0001 976.7835,-45.5 966.7835,-42.0001 966.7835,-49.0001\"/>\n</g>\n<!-- 140051402974976 -->\n<g id=\"node5\" class=\"node\">\n<title>140051402974976</title>\n<polygon fill=\"none\" stroke=\"#000000\" points=\"656.5,-55.5 656.5,-91.5 848.5,-91.5 848.5,-55.5 656.5,-55.5\"/>\n<text text-anchor=\"middle\" x=\"666.5\" y=\"-69.8\" font-family=\"Times,serif\" font-size=\"14.00\" fill=\"#000000\"> </text>\n<polyline fill=\"none\" stroke=\"#000000\" points=\"676.5,-55.5 676.5,-91.5 \"/>\n<text text-anchor=\"middle\" x=\"719\" y=\"-69.8\" font-family=\"Times,serif\" font-size=\"14.00\" fill=\"#000000\">data 4.0000</text>\n<polyline fill=\"none\" stroke=\"#000000\" points=\"761.5,-55.5 761.5,-91.5 \"/>\n<text text-anchor=\"middle\" x=\"805\" y=\"-69.8\" font-family=\"Times,serif\" font-size=\"14.00\" fill=\"#000000\">grad 0.0000</text>\n</g>\n<!-- 140051402974976&#45;&gt;140051402975456* -->\n<g id=\"edge9\" class=\"edge\">\n<title>140051402974976&#45;&gt;140051402975456*</title>\n<path fill=\"none\" stroke=\"#000000\" d=\"M848.7773,-56.808C859.0703,-55.0234 869.0136,-53.2995 877.9036,-51.7582\"/>\n<polygon fill=\"#000000\" stroke=\"#000000\" points=\"878.5587,-55.1969 887.8137,-50.04 877.3628,-48.2998 878.5587,-55.1969\"/>\n</g>\n<!-- 140051402974976+ -->\n<g id=\"node6\" class=\"node\">\n<title>140051402974976+</title>\n<ellipse fill=\"none\" stroke=\"#000000\" cx=\"591\" cy=\"-73.5\" rx=\"27\" ry=\"18\"/>\n<text text-anchor=\"middle\" x=\"591\" y=\"-69.8\" font-family=\"Times,serif\" font-size=\"14.00\" fill=\"#000000\">+</text>\n</g>\n<!-- 140051402974976+&#45;&gt;140051402974976 -->\n<g id=\"edge2\" class=\"edge\">\n<title>140051402974976+&#45;&gt;140051402974976</title>\n<path fill=\"none\" stroke=\"#000000\" d=\"M618.0315,-73.5C626.3333,-73.5 636.0215,-73.5 646.3247,-73.5\"/>\n<polygon fill=\"#000000\" stroke=\"#000000\" points=\"646.3664,-77.0001 656.3663,-73.5 646.3663,-70.0001 646.3664,-77.0001\"/>\n</g>\n<!-- 140051402977040 -->\n<g id=\"node7\" class=\"node\">\n<title>140051402977040</title>\n<polygon fill=\"none\" stroke=\"#000000\" points=\"0,-56.5 0,-92.5 200,-92.5 200,-56.5 0,-56.5\"/>\n<text text-anchor=\"middle\" x=\"12\" y=\"-70.8\" font-family=\"Times,serif\" font-size=\"14.00\" fill=\"#000000\">b</text>\n<polyline fill=\"none\" stroke=\"#000000\" points=\"24,-56.5 24,-92.5 \"/>\n<text text-anchor=\"middle\" x=\"68.5\" y=\"-70.8\" font-family=\"Times,serif\" font-size=\"14.00\" fill=\"#000000\">data &#45;3.0000</text>\n<polyline fill=\"none\" stroke=\"#000000\" points=\"113,-56.5 113,-92.5 \"/>\n<text text-anchor=\"middle\" x=\"156.5\" y=\"-70.8\" font-family=\"Times,serif\" font-size=\"14.00\" fill=\"#000000\">grad 0.0000</text>\n</g>\n<!-- 140051402977040&#45;&gt;140051561775600* -->\n<g id=\"edge7\" class=\"edge\">\n<title>140051402977040&#45;&gt;140051561775600*</title>\n<path fill=\"none\" stroke=\"#000000\" d=\"M200.4461,-91.1383C209.6478,-92.6625 218.5084,-94.1302 226.5226,-95.4577\"/>\n<polygon fill=\"#000000\" stroke=\"#000000\" points=\"226.0904,-98.9338 236.528,-97.1151 227.2344,-92.0279 226.0904,-98.9338\"/>\n</g>\n<!-- 140051402976704 -->\n<g id=\"node8\" class=\"node\">\n<title>140051402976704</title>\n<polygon fill=\"none\" stroke=\"#000000\" points=\"326,-28.5 326,-64.5 528,-64.5 528,-28.5 326,-28.5\"/>\n<text text-anchor=\"middle\" x=\"337.5\" y=\"-42.8\" font-family=\"Times,serif\" font-size=\"14.00\" fill=\"#000000\">c</text>\n<polyline fill=\"none\" stroke=\"#000000\" points=\"349,-28.5 349,-64.5 \"/>\n<text text-anchor=\"middle\" x=\"395\" y=\"-42.8\" font-family=\"Times,serif\" font-size=\"14.00\" fill=\"#000000\">data 10.0000</text>\n<polyline fill=\"none\" stroke=\"#000000\" points=\"441,-28.5 441,-64.5 \"/>\n<text text-anchor=\"middle\" x=\"484.5\" y=\"-42.8\" font-family=\"Times,serif\" font-size=\"14.00\" fill=\"#000000\">grad 0.0000</text>\n</g>\n<!-- 140051402976704&#45;&gt;140051402974976+ -->\n<g id=\"edge5\" class=\"edge\">\n<title>140051402976704&#45;&gt;140051402974976+</title>\n<path fill=\"none\" stroke=\"#000000\" d=\"M528.0623,-63.1383C537.4122,-64.6776 546.412,-66.1593 554.5381,-67.4971\"/>\n<polygon fill=\"#000000\" stroke=\"#000000\" points=\"554.2375,-70.9947 564.6733,-69.1657 555.3747,-64.0877 554.2375,-70.9947\"/>\n</g>\n<!-- 140051561775600 -->\n<g id=\"node9\" class=\"node\">\n<title>140051561775600</title>\n<polygon fill=\"none\" stroke=\"#000000\" points=\"329,-83.5 329,-119.5 525,-119.5 525,-83.5 329,-83.5\"/>\n<text text-anchor=\"middle\" x=\"339\" y=\"-97.8\" font-family=\"Times,serif\" font-size=\"14.00\" fill=\"#000000\"> </text>\n<polyline fill=\"none\" stroke=\"#000000\" points=\"349,-83.5 349,-119.5 \"/>\n<text text-anchor=\"middle\" x=\"393.5\" y=\"-97.8\" font-family=\"Times,serif\" font-size=\"14.00\" fill=\"#000000\">data &#45;6.0000</text>\n<polyline fill=\"none\" stroke=\"#000000\" points=\"438,-83.5 438,-119.5 \"/>\n<text text-anchor=\"middle\" x=\"481.5\" y=\"-97.8\" font-family=\"Times,serif\" font-size=\"14.00\" fill=\"#000000\">grad 0.0000</text>\n</g>\n<!-- 140051561775600&#45;&gt;140051402974976+ -->\n<g id=\"edge6\" class=\"edge\">\n<title>140051561775600&#45;&gt;140051402974976+</title>\n<path fill=\"none\" stroke=\"#000000\" d=\"M525.2399,-84.7273C535.6346,-82.9526 545.6666,-81.2399 554.6311,-79.7093\"/>\n<polygon fill=\"#000000\" stroke=\"#000000\" points=\"555.3538,-83.1367 564.6221,-78.0035 554.1757,-76.2365 555.3538,-83.1367\"/>\n</g>\n<!-- 140051561775600*&#45;&gt;140051561775600 -->\n<g id=\"edge3\" class=\"edge\">\n<title>140051561775600*&#45;&gt;140051561775600</title>\n<path fill=\"none\" stroke=\"#000000\" d=\"M290.0813,-101.5C298.4235,-101.5 308.1692,-101.5 318.5481,-101.5\"/>\n<polygon fill=\"#000000\" stroke=\"#000000\" points=\"318.668,-105.0001 328.6679,-101.5 318.6679,-98.0001 318.668,-105.0001\"/>\n</g>\n</g>\n</svg>\n"
          },
          "metadata": {},
          "execution_count": 97
        }
      ]
    },
    {
      "cell_type": "code",
      "source": [
        "L.grad = 1.0\n",
        "f.grad = d.data * L.grad\n",
        "d.grad = f.data * L.grad\n",
        "c.grad = 1.0 * d.grad\n",
        "e.grad = 1.0 * d.grad\n",
        "b.grad = a.data * e.grad\n",
        "a.grad = b.data * e.grad"
      ],
      "metadata": {
        "id": "9d6yg69iy1R5"
      },
      "execution_count": 98,
      "outputs": []
    },
    {
      "cell_type": "code",
      "source": [
        "def lol():\n",
        "  h = 0.0001\n",
        "\n",
        "  a = Value(2.0, label='a')\n",
        "  b = Value(-3.0, label='b')\n",
        "  c = Value(10.0, label='c')\n",
        "  e = a*b\n",
        "  e.label = 'e'\n",
        "  d= e + c; d.label = 'd'\n",
        "  f = Value(-2.0, label='f')\n",
        "  L = d * f; L.label = 'L'\n",
        "  L1 = L.data\n",
        "\n",
        "  a = Value(2.0, label='a')\n",
        "  b = Value(-3.0, label='b')\n",
        "  c = Value(10.0, label='c')\n",
        "  e = a*b\n",
        "  e.label = 'e'\n",
        "  d= e + c; d.label = 'd'\n",
        "  f = Value(-2.0+h, label='f')\n",
        "  L = d * f; L.label = 'L'\n",
        "  L2 = L.data\n",
        "\n",
        "  print((L2-L1)/h)\n",
        "\n",
        "lol()"
      ],
      "metadata": {
        "colab": {
          "base_uri": "https://localhost:8080/"
        },
        "outputId": "52b2b5c3-d44b-433d-b9ce-71e243a56ba7",
        "id": "AMXYim58xst3"
      },
      "execution_count": 99,
      "outputs": [
        {
          "output_type": "stream",
          "name": "stdout",
          "text": [
            "3.9999999999995595\n"
          ]
        }
      ]
    },
    {
      "cell_type": "code",
      "source": [
        "xs = np.arange(-5, 5, 0.2)\n",
        "ys = np.tanh(xs)\n",
        "plt.plot(xs, ys)\n",
        "plt.grid()\n"
      ],
      "metadata": {
        "colab": {
          "base_uri": "https://localhost:8080/",
          "height": 265
        },
        "id": "bvRiJSjZxzMK",
        "outputId": "7156bf0d-f171-4fdf-c7f5-db50f345967e"
      },
      "execution_count": 100,
      "outputs": [
        {
          "output_type": "display_data",
          "data": {
            "text/plain": [
              "<Figure size 432x288 with 1 Axes>"
            ],
            "image/png": "[encoded data removed]"
          },
          "metadata": {
            "needs_background": "light"
          }
        }
      ]
    },
    {
      "cell_type": "code",
      "source": [
        "x1 = Value(2.0, label = 'x1')\n",
        "x2 = Value(0.0, label = 'x2')\n",
        "w1 = Value(-3.0, label = 'w1')\n",
        "w2 = Value(1.0, label = 'w2')\n",
        "b = Value(6.8813735870195432, label = 'b')\n",
        "x1w1 = x1*w1; x1w1.label = 'x1w1'\n",
        "x2w2 = x2*w2; x2w2.label = 'x2w2'\n",
        "x1w1x2w2 = x1w1 + x2w2; x1w1x2w2.label = 'x1w1 + x2w2'\n",
        "n = x1w1x2w2 + b; n.label = 'n'\n",
        "#----\n",
        "#o = n.tanh()\n",
        "\n",
        "e = (2*n).exp()\n",
        "o = (e-1)/(e+1)\n",
        "\n",
        "#---\n",
        "o.label = 'o'\n",
        "\n",
        "o.backward()"
      ],
      "metadata": {
        "id": "CgF3q0aIbqNH"
      },
      "execution_count": 108,
      "outputs": []
    },
    {
      "cell_type": "code",
      "source": [
        "draw_dot(o)"
      ],
      "metadata": {
        "colab": {
          "base_uri": "https://localhost:8080/",
          "height": 321
        },
        "id": "W5HBDmhTJFng",
        "outputId": "158b3202-8d52-4b42-d388-e07a31a3ffea"
      },
      "execution_count": 109,
      "outputs": [
        {
          "output_type": "execute_result",
          "data": {
            "text/plain": [
              "<graphviz.dot.Digraph at 0x7f604215dfd0>"
            ],
            "image/svg+xml": "<?xml version=\"1.0\" encoding=\"UTF-8\" standalone=\"no\"?>\n<!DOCTYPE svg PUBLIC \"-//W3C//DTD SVG 1.1//EN\"\n \"http://www.w3.org/Graphics/SVG/1.1/DTD/svg11.dtd\">\n<!-- Generated by graphviz version 2.40.1 (20161225.0304)\n -->\n<!-- Title: %3 Pages: 1 -->\n<svg width=\"3035pt\" height=\"210pt\"\n viewBox=\"0.00 0.00 3035.00 210.00\" xmlns=\"http://www.w3.org/2000/svg\" xmlns:xlink=\"http://www.w3.org/1999/xlink\">\n<g id=\"graph0\" class=\"graph\" transform=\"scale(1 1) rotate(0) translate(4 206)\">\n<title>%3</title>\n<polygon fill=\"#ffffff\" stroke=\"transparent\" points=\"-4,4 -4,-206 3031,-206 3031,4 -4,4\"/>\n<!-- 140051402348096 -->\n<g id=\"node1\" class=\"node\">\n<title>140051402348096</title>\n<polygon fill=\"none\" stroke=\"#000000\" points=\"1731.5,-81.5 1731.5,-117.5 1923.5,-117.5 1923.5,-81.5 1731.5,-81.5\"/>\n<text text-anchor=\"middle\" x=\"1741.5\" y=\"-95.8\" font-family=\"Times,serif\" font-size=\"14.00\" fill=\"#000000\"> </text>\n<polyline fill=\"none\" stroke=\"#000000\" points=\"1751.5,-81.5 1751.5,-117.5 \"/>\n<text text-anchor=\"middle\" x=\"1794\" y=\"-95.8\" font-family=\"Times,serif\" font-size=\"14.00\" fill=\"#000000\">data 5.8284</text>\n<polyline fill=\"none\" stroke=\"#000000\" points=\"1836.5,-81.5 1836.5,-117.5 \"/>\n<text text-anchor=\"middle\" x=\"1880\" y=\"-95.8\" font-family=\"Times,serif\" font-size=\"14.00\" fill=\"#000000\">grad 0.0429</text>\n</g>\n<!-- 140051402367088+ -->\n<g id=\"node6\" class=\"node\">\n<title>140051402367088+</title>\n<ellipse fill=\"none\" stroke=\"#000000\" cx=\"1989\" cy=\"-71.5\" rx=\"27\" ry=\"18\"/>\n<text text-anchor=\"middle\" x=\"1989\" y=\"-67.8\" font-family=\"Times,serif\" font-size=\"14.00\" fill=\"#000000\">+</text>\n</g>\n<!-- 140051402348096&#45;&gt;140051402367088+ -->\n<g id=\"edge15\" class=\"edge\">\n<title>140051402348096&#45;&gt;140051402367088+</title>\n<path fill=\"none\" stroke=\"#000000\" d=\"M1923.7773,-82.808C1934.0703,-81.0234 1944.0136,-79.2995 1952.9036,-77.7582\"/>\n<polygon fill=\"#000000\" stroke=\"#000000\" points=\"1953.5587,-81.1969 1962.8137,-76.04 1952.3628,-74.2998 1953.5587,-81.1969\"/>\n</g>\n<!-- 140051561942368+ -->\n<g id=\"node21\" class=\"node\">\n<title>140051561942368+</title>\n<ellipse fill=\"none\" stroke=\"#000000\" cx=\"1989\" cy=\"-126.5\" rx=\"27\" ry=\"18\"/>\n<text text-anchor=\"middle\" x=\"1989\" y=\"-122.8\" font-family=\"Times,serif\" font-size=\"14.00\" fill=\"#000000\">+</text>\n</g>\n<!-- 140051402348096&#45;&gt;140051561942368+ -->\n<g id=\"edge28\" class=\"edge\">\n<title>140051402348096&#45;&gt;140051561942368+</title>\n<path fill=\"none\" stroke=\"#000000\" d=\"M1923.7773,-115.5959C1933.8624,-117.2819 1943.6117,-118.9119 1952.3636,-120.375\"/>\n<polygon fill=\"#000000\" stroke=\"#000000\" points=\"1952.0594,-123.8727 1962.4997,-122.0696 1953.2137,-116.9685 1952.0594,-123.8727\"/>\n</g>\n<!-- 140051402348096exp -->\n<g id=\"node2\" class=\"node\">\n<title>140051402348096exp</title>\n<ellipse fill=\"none\" stroke=\"#000000\" cx=\"1666\" cy=\"-99.5\" rx=\"27\" ry=\"18\"/>\n<text text-anchor=\"middle\" x=\"1666\" y=\"-95.8\" font-family=\"Times,serif\" font-size=\"14.00\" fill=\"#000000\">exp</text>\n</g>\n<!-- 140051402348096exp&#45;&gt;140051402348096 -->\n<g id=\"edge1\" class=\"edge\">\n<title>140051402348096exp&#45;&gt;140051402348096</title>\n<path fill=\"none\" stroke=\"#000000\" d=\"M1693.0315,-99.5C1701.3333,-99.5 1711.0215,-99.5 1721.3247,-99.5\"/>\n<polygon fill=\"#000000\" stroke=\"#000000\" points=\"1721.3664,-103.0001 1731.3663,-99.5 1721.3663,-96.0001 1721.3664,-103.0001\"/>\n</g>\n<!-- 140051402372720 -->\n<g id=\"node3\" class=\"node\">\n<title>140051402372720</title>\n<polygon fill=\"none\" stroke=\"#000000\" points=\"339,-110.5 339,-146.5 561,-146.5 561,-110.5 339,-110.5\"/>\n<text text-anchor=\"middle\" x=\"364\" y=\"-124.8\" font-family=\"Times,serif\" font-size=\"14.00\" fill=\"#000000\">x2w2</text>\n<polyline fill=\"none\" stroke=\"#000000\" points=\"389,-110.5 389,-146.5 \"/>\n<text text-anchor=\"middle\" x=\"431.5\" y=\"-124.8\" font-family=\"Times,serif\" font-size=\"14.00\" fill=\"#000000\">data 0.0000</text>\n<polyline fill=\"none\" stroke=\"#000000\" points=\"474,-110.5 474,-146.5 \"/>\n<text text-anchor=\"middle\" x=\"517.5\" y=\"-124.8\" font-family=\"Times,serif\" font-size=\"14.00\" fill=\"#000000\">grad 0.5000</text>\n</g>\n<!-- 140051402403648+ -->\n<g id=\"node19\" class=\"node\">\n<title>140051402403648+</title>\n<ellipse fill=\"none\" stroke=\"#000000\" cx=\"626\" cy=\"-100.5\" rx=\"27\" ry=\"18\"/>\n<text text-anchor=\"middle\" x=\"626\" y=\"-96.8\" font-family=\"Times,serif\" font-size=\"14.00\" fill=\"#000000\">+</text>\n</g>\n<!-- 140051402372720&#45;&gt;140051402403648+ -->\n<g id=\"edge12\" class=\"edge\">\n<title>140051402372720&#45;&gt;140051402403648+</title>\n<path fill=\"none\" stroke=\"#000000\" d=\"M561.4635,-110.7672C571.4544,-109.1777 581.0101,-107.6575 589.562,-106.297\"/>\n<polygon fill=\"#000000\" stroke=\"#000000\" points=\"590.1316,-109.7504 599.4575,-104.7227 589.0317,-102.8374 590.1316,-109.7504\"/>\n</g>\n<!-- 140051402372720* -->\n<g id=\"node4\" class=\"node\">\n<title>140051402372720*</title>\n<ellipse fill=\"none\" stroke=\"#000000\" cx=\"274\" cy=\"-128.5\" rx=\"27\" ry=\"18\"/>\n<text text-anchor=\"middle\" x=\"274\" y=\"-124.8\" font-family=\"Times,serif\" font-size=\"14.00\" fill=\"#000000\">*</text>\n</g>\n<!-- 140051402372720*&#45;&gt;140051402372720 -->\n<g id=\"edge2\" class=\"edge\">\n<title>140051402372720*&#45;&gt;140051402372720</title>\n<path fill=\"none\" stroke=\"#000000\" d=\"M301.1143,-128.5C309.1416,-128.5 318.4948,-128.5 328.5303,-128.5\"/>\n<polygon fill=\"#000000\" stroke=\"#000000\" points=\"328.7696,-132.0001 338.7695,-128.5 328.7695,-125.0001 328.7696,-132.0001\"/>\n</g>\n<!-- 140051402367088 -->\n<g id=\"node5\" class=\"node\">\n<title>140051402367088</title>\n<polygon fill=\"none\" stroke=\"#000000\" points=\"2285,-53.5 2285,-89.5 2477,-89.5 2477,-53.5 2285,-53.5\"/>\n<text text-anchor=\"middle\" x=\"2295\" y=\"-67.8\" font-family=\"Times,serif\" font-size=\"14.00\" fill=\"#000000\"> </text>\n<polyline fill=\"none\" stroke=\"#000000\" points=\"2305,-53.5 2305,-89.5 \"/>\n<text text-anchor=\"middle\" x=\"2347.5\" y=\"-67.8\" font-family=\"Times,serif\" font-size=\"14.00\" fill=\"#000000\">data 4.8284</text>\n<polyline fill=\"none\" stroke=\"#000000\" points=\"2390,-53.5 2390,-89.5 \"/>\n<text text-anchor=\"middle\" x=\"2433.5\" y=\"-67.8\" font-family=\"Times,serif\" font-size=\"14.00\" fill=\"#000000\">grad 0.1464</text>\n</g>\n<!-- 140051402347184* -->\n<g id=\"node9\" class=\"node\">\n<title>140051402347184*</title>\n<ellipse fill=\"none\" stroke=\"#000000\" cx=\"2768\" cy=\"-98.5\" rx=\"27\" ry=\"18\"/>\n<text text-anchor=\"middle\" x=\"2768\" y=\"-94.8\" font-family=\"Times,serif\" font-size=\"14.00\" fill=\"#000000\">*</text>\n</g>\n<!-- 140051402367088&#45;&gt;140051402347184* -->\n<g id=\"edge20\" class=\"edge\">\n<title>140051402367088&#45;&gt;140051402347184*</title>\n<path fill=\"none\" stroke=\"#000000\" d=\"M2477.1602,-78.2088C2559.1383,-83.9283 2672.6348,-91.8466 2730.6244,-95.8924\"/>\n<polygon fill=\"#000000\" stroke=\"#000000\" points=\"2730.5669,-99.3968 2740.7863,-96.6014 2731.0542,-92.4138 2730.5669,-99.3968\"/>\n</g>\n<!-- 140051402367088+&#45;&gt;140051402367088 -->\n<g id=\"edge3\" class=\"edge\">\n<title>140051402367088+&#45;&gt;140051402367088</title>\n<path fill=\"none\" stroke=\"#000000\" d=\"M2016.2535,-71.5C2068.8629,-71.5 2186.9488,-71.5 2274.5875,-71.5\"/>\n<polygon fill=\"#000000\" stroke=\"#000000\" points=\"2274.8483,-75.0001 2284.8482,-71.5 2274.8482,-68.0001 2274.8483,-75.0001\"/>\n</g>\n<!-- 140051402373776 -->\n<g id=\"node7\" class=\"node\">\n<title>140051402373776</title>\n<polygon fill=\"none\" stroke=\"#000000\" points=\"1729.5,-26.5 1729.5,-62.5 1925.5,-62.5 1925.5,-26.5 1729.5,-26.5\"/>\n<text text-anchor=\"middle\" x=\"1739.5\" y=\"-40.8\" font-family=\"Times,serif\" font-size=\"14.00\" fill=\"#000000\"> </text>\n<polyline fill=\"none\" stroke=\"#000000\" points=\"1749.5,-26.5 1749.5,-62.5 \"/>\n<text text-anchor=\"middle\" x=\"1794\" y=\"-40.8\" font-family=\"Times,serif\" font-size=\"14.00\" fill=\"#000000\">data &#45;1.0000</text>\n<polyline fill=\"none\" stroke=\"#000000\" points=\"1838.5,-26.5 1838.5,-62.5 \"/>\n<text text-anchor=\"middle\" x=\"1882\" y=\"-40.8\" font-family=\"Times,serif\" font-size=\"14.00\" fill=\"#000000\">grad 0.1464</text>\n</g>\n<!-- 140051402373776&#45;&gt;140051402367088+ -->\n<g id=\"edge13\" class=\"edge\">\n<title>140051402373776&#45;&gt;140051402367088+</title>\n<path fill=\"none\" stroke=\"#000000\" d=\"M1925.6344,-60.9064C1935.2015,-62.5058 1944.4268,-64.0481 1952.738,-65.4376\"/>\n<polygon fill=\"#000000\" stroke=\"#000000\" points=\"1952.2933,-68.9118 1962.7336,-67.1087 1953.4477,-62.0076 1952.2933,-68.9118\"/>\n</g>\n<!-- 140051402347184 -->\n<g id=\"node8\" class=\"node\">\n<title>140051402347184</title>\n<polygon fill=\"none\" stroke=\"#000000\" points=\"2831,-80.5 2831,-116.5 3027,-116.5 3027,-80.5 2831,-80.5\"/>\n<text text-anchor=\"middle\" x=\"2843\" y=\"-94.8\" font-family=\"Times,serif\" font-size=\"14.00\" fill=\"#000000\">o</text>\n<polyline fill=\"none\" stroke=\"#000000\" points=\"2855,-80.5 2855,-116.5 \"/>\n<text text-anchor=\"middle\" x=\"2897.5\" y=\"-94.8\" font-family=\"Times,serif\" font-size=\"14.00\" fill=\"#000000\">data 0.7071</text>\n<polyline fill=\"none\" stroke=\"#000000\" points=\"2940,-80.5 2940,-116.5 \"/>\n<text text-anchor=\"middle\" x=\"2983.5\" y=\"-94.8\" font-family=\"Times,serif\" font-size=\"14.00\" fill=\"#000000\">grad 1.0000</text>\n</g>\n<!-- 140051402347184*&#45;&gt;140051402347184 -->\n<g id=\"edge4\" class=\"edge\">\n<title>140051402347184*&#45;&gt;140051402347184</title>\n<path fill=\"none\" stroke=\"#000000\" d=\"M2795.3115,-98.5C2802.8223,-98.5 2811.4512,-98.5 2820.6318,-98.5\"/>\n<polygon fill=\"#000000\" stroke=\"#000000\" points=\"2820.7835,-102.0001 2830.7835,-98.5 2820.7835,-95.0001 2820.7835,-102.0001\"/>\n</g>\n<!-- 140051402374832 -->\n<g id=\"node10\" class=\"node\">\n<title>140051402374832</title>\n<polygon fill=\"none\" stroke=\"#000000\" points=\"0,-55.5 0,-91.5 211,-91.5 211,-55.5 0,-55.5\"/>\n<text text-anchor=\"middle\" x=\"17.5\" y=\"-69.8\" font-family=\"Times,serif\" font-size=\"14.00\" fill=\"#000000\">w1</text>\n<polyline fill=\"none\" stroke=\"#000000\" points=\"35,-55.5 35,-91.5 \"/>\n<text text-anchor=\"middle\" x=\"79.5\" y=\"-69.8\" font-family=\"Times,serif\" font-size=\"14.00\" fill=\"#000000\">data &#45;3.0000</text>\n<polyline fill=\"none\" stroke=\"#000000\" points=\"124,-55.5 124,-91.5 \"/>\n<text text-anchor=\"middle\" x=\"167.5\" y=\"-69.8\" font-family=\"Times,serif\" font-size=\"14.00\" fill=\"#000000\">grad 1.0000</text>\n</g>\n<!-- 140051402372816* -->\n<g id=\"node12\" class=\"node\">\n<title>140051402372816*</title>\n<ellipse fill=\"none\" stroke=\"#000000\" cx=\"274\" cy=\"-73.5\" rx=\"27\" ry=\"18\"/>\n<text text-anchor=\"middle\" x=\"274\" y=\"-69.8\" font-family=\"Times,serif\" font-size=\"14.00\" fill=\"#000000\">*</text>\n</g>\n<!-- 140051402374832&#45;&gt;140051402372816* -->\n<g id=\"edge24\" class=\"edge\">\n<title>140051402374832&#45;&gt;140051402372816*</title>\n<path fill=\"none\" stroke=\"#000000\" d=\"M211.2568,-73.5C220.2576,-73.5 228.9074,-73.5 236.7567,-73.5\"/>\n<polygon fill=\"#000000\" stroke=\"#000000\" points=\"236.9217,-77.0001 246.9217,-73.5 236.9217,-70.0001 236.9217,-77.0001\"/>\n</g>\n<!-- 140051402372816 -->\n<g id=\"node11\" class=\"node\">\n<title>140051402372816</title>\n<polygon fill=\"none\" stroke=\"#000000\" points=\"337,-55.5 337,-91.5 563,-91.5 563,-55.5 337,-55.5\"/>\n<text text-anchor=\"middle\" x=\"362\" y=\"-69.8\" font-family=\"Times,serif\" font-size=\"14.00\" fill=\"#000000\">x1w1</text>\n<polyline fill=\"none\" stroke=\"#000000\" points=\"387,-55.5 387,-91.5 \"/>\n<text text-anchor=\"middle\" x=\"431.5\" y=\"-69.8\" font-family=\"Times,serif\" font-size=\"14.00\" fill=\"#000000\">data &#45;6.0000</text>\n<polyline fill=\"none\" stroke=\"#000000\" points=\"476,-55.5 476,-91.5 \"/>\n<text text-anchor=\"middle\" x=\"519.5\" y=\"-69.8\" font-family=\"Times,serif\" font-size=\"14.00\" fill=\"#000000\">grad 0.5000</text>\n</g>\n<!-- 140051402372816&#45;&gt;140051402403648+ -->\n<g id=\"edge14\" class=\"edge\">\n<title>140051402372816&#45;&gt;140051402403648+</title>\n<path fill=\"none\" stroke=\"#000000\" d=\"M563.4534,-90.9048C572.7031,-92.3238 581.5424,-93.6798 589.5117,-94.9024\"/>\n<polygon fill=\"#000000\" stroke=\"#000000\" points=\"589.0334,-98.3699 599.4485,-96.4268 590.0949,-91.4508 589.0334,-98.3699\"/>\n</g>\n<!-- 140051402372816*&#45;&gt;140051402372816 -->\n<g id=\"edge5\" class=\"edge\">\n<title>140051402372816*&#45;&gt;140051402372816</title>\n<path fill=\"none\" stroke=\"#000000\" d=\"M301.1143,-73.5C308.7002,-73.5 317.4701,-73.5 326.881,-73.5\"/>\n<polygon fill=\"#000000\" stroke=\"#000000\" points=\"326.8975,-77.0001 336.8974,-73.5 326.8974,-70.0001 326.8975,-77.0001\"/>\n</g>\n<!-- 140051402349296 -->\n<g id=\"node13\" class=\"node\">\n<title>140051402349296</title>\n<polygon fill=\"none\" stroke=\"#000000\" points=\"1411,-81.5 1411,-117.5 1603,-117.5 1603,-81.5 1411,-81.5\"/>\n<text text-anchor=\"middle\" x=\"1421\" y=\"-95.8\" font-family=\"Times,serif\" font-size=\"14.00\" fill=\"#000000\"> </text>\n<polyline fill=\"none\" stroke=\"#000000\" points=\"1431,-81.5 1431,-117.5 \"/>\n<text text-anchor=\"middle\" x=\"1473.5\" y=\"-95.8\" font-family=\"Times,serif\" font-size=\"14.00\" fill=\"#000000\">data 1.7627</text>\n<polyline fill=\"none\" stroke=\"#000000\" points=\"1516,-81.5 1516,-117.5 \"/>\n<text text-anchor=\"middle\" x=\"1559.5\" y=\"-95.8\" font-family=\"Times,serif\" font-size=\"14.00\" fill=\"#000000\">grad 0.2500</text>\n</g>\n<!-- 140051402349296&#45;&gt;140051402348096exp -->\n<g id=\"edge16\" class=\"edge\">\n<title>140051402349296&#45;&gt;140051402348096exp</title>\n<path fill=\"none\" stroke=\"#000000\" d=\"M1603.159,-99.5C1612.0615,-99.5 1620.6722,-99.5 1628.517,-99.5\"/>\n<polygon fill=\"#000000\" stroke=\"#000000\" points=\"1628.6952,-103.0001 1638.6952,-99.5 1628.6951,-96.0001 1628.6952,-103.0001\"/>\n</g>\n<!-- 140051402349296* -->\n<g id=\"node14\" class=\"node\">\n<title>140051402349296*</title>\n<ellipse fill=\"none\" stroke=\"#000000\" cx=\"1348\" cy=\"-99.5\" rx=\"27\" ry=\"18\"/>\n<text text-anchor=\"middle\" x=\"1348\" y=\"-95.8\" font-family=\"Times,serif\" font-size=\"14.00\" fill=\"#000000\">*</text>\n</g>\n<!-- 140051402349296*&#45;&gt;140051402349296 -->\n<g id=\"edge6\" class=\"edge\">\n<title>140051402349296*&#45;&gt;140051402349296</title>\n<path fill=\"none\" stroke=\"#000000\" d=\"M1375.3331,-99.5C1382.8317,-99.5 1391.4389,-99.5 1400.5849,-99.5\"/>\n<polygon fill=\"#000000\" stroke=\"#000000\" points=\"1400.6939,-103.0001 1410.6939,-99.5 1400.6939,-96.0001 1400.6939,-103.0001\"/>\n</g>\n<!-- 140051402375120 -->\n<g id=\"node15\" class=\"node\">\n<title>140051402375120</title>\n<polygon fill=\"none\" stroke=\"#000000\" points=\"1,-.5 1,-36.5 210,-36.5 210,-.5 1,-.5\"/>\n<text text-anchor=\"middle\" x=\"17\" y=\"-14.8\" font-family=\"Times,serif\" font-size=\"14.00\" fill=\"#000000\">x1</text>\n<polyline fill=\"none\" stroke=\"#000000\" points=\"33,-.5 33,-36.5 \"/>\n<text text-anchor=\"middle\" x=\"75.5\" y=\"-14.8\" font-family=\"Times,serif\" font-size=\"14.00\" fill=\"#000000\">data 2.0000</text>\n<polyline fill=\"none\" stroke=\"#000000\" points=\"118,-.5 118,-36.5 \"/>\n<text text-anchor=\"middle\" x=\"164\" y=\"-14.8\" font-family=\"Times,serif\" font-size=\"14.00\" fill=\"#000000\">grad &#45;1.5000</text>\n</g>\n<!-- 140051402375120&#45;&gt;140051402372816* -->\n<g id=\"edge26\" class=\"edge\">\n<title>140051402375120&#45;&gt;140051402372816*</title>\n<path fill=\"none\" stroke=\"#000000\" d=\"M182.3017,-36.5442C192.0361,-39.302 201.8026,-42.3045 211,-45.5 221.6243,-49.1912 232.9373,-53.9452 243.0021,-58.4845\"/>\n<polygon fill=\"#000000\" stroke=\"#000000\" points=\"241.6594,-61.7195 252.2061,-62.729 244.5909,-55.3629 241.6594,-61.7195\"/>\n</g>\n<!-- 140051561941792 -->\n<g id=\"node16\" class=\"node\">\n<title>140051561941792</title>\n<polygon fill=\"none\" stroke=\"#000000\" points=\"1729,-136.5 1729,-172.5 1926,-172.5 1926,-136.5 1729,-136.5\"/>\n<text text-anchor=\"middle\" x=\"1739\" y=\"-150.8\" font-family=\"Times,serif\" font-size=\"14.00\" fill=\"#000000\"> </text>\n<polyline fill=\"none\" stroke=\"#000000\" points=\"1749,-136.5 1749,-172.5 \"/>\n<text text-anchor=\"middle\" x=\"1791.5\" y=\"-150.8\" font-family=\"Times,serif\" font-size=\"14.00\" fill=\"#000000\">data 1.0000</text>\n<polyline fill=\"none\" stroke=\"#000000\" points=\"1834,-136.5 1834,-172.5 \"/>\n<text text-anchor=\"middle\" x=\"1880\" y=\"-150.8\" font-family=\"Times,serif\" font-size=\"14.00\" fill=\"#000000\">grad &#45;0.1036</text>\n</g>\n<!-- 140051561941792&#45;&gt;140051561942368+ -->\n<g id=\"edge25\" class=\"edge\">\n<title>140051561941792&#45;&gt;140051561942368+</title>\n<path fill=\"none\" stroke=\"#000000\" d=\"M1926.0974,-137.4057C1935.5173,-135.7725 1944.5961,-134.1985 1952.7856,-132.7787\"/>\n<polygon fill=\"#000000\" stroke=\"#000000\" points=\"1953.387,-136.2267 1962.6421,-131.0698 1952.1912,-129.3296 1953.387,-136.2267\"/>\n</g>\n<!-- 140051402372384 -->\n<g id=\"node17\" class=\"node\">\n<title>140051402372384</title>\n<polygon fill=\"none\" stroke=\"#000000\" points=\"3.5,-165.5 3.5,-201.5 207.5,-201.5 207.5,-165.5 3.5,-165.5\"/>\n<text text-anchor=\"middle\" x=\"19.5\" y=\"-179.8\" font-family=\"Times,serif\" font-size=\"14.00\" fill=\"#000000\">x2</text>\n<polyline fill=\"none\" stroke=\"#000000\" points=\"35.5,-165.5 35.5,-201.5 \"/>\n<text text-anchor=\"middle\" x=\"78\" y=\"-179.8\" font-family=\"Times,serif\" font-size=\"14.00\" fill=\"#000000\">data 0.0000</text>\n<polyline fill=\"none\" stroke=\"#000000\" points=\"120.5,-165.5 120.5,-201.5 \"/>\n<text text-anchor=\"middle\" x=\"164\" y=\"-179.8\" font-family=\"Times,serif\" font-size=\"14.00\" fill=\"#000000\">grad 0.5000</text>\n</g>\n<!-- 140051402372384&#45;&gt;140051402372720* -->\n<g id=\"edge23\" class=\"edge\">\n<title>140051402372384&#45;&gt;140051402372720*</title>\n<path fill=\"none\" stroke=\"#000000\" d=\"M182.3017,-165.4558C192.0361,-162.698 201.8026,-159.6955 211,-156.5 221.6243,-152.8088 232.9373,-148.0548 243.0021,-143.5155\"/>\n<polygon fill=\"#000000\" stroke=\"#000000\" points=\"244.5909,-146.6371 252.2061,-139.271 241.6594,-140.2805 244.5909,-146.6371\"/>\n</g>\n<!-- 140051402403648 -->\n<g id=\"node18\" class=\"node\">\n<title>140051402403648</title>\n<polygon fill=\"none\" stroke=\"#000000\" points=\"689,-82.5 689,-118.5 963,-118.5 963,-82.5 689,-82.5\"/>\n<text text-anchor=\"middle\" x=\"738\" y=\"-96.8\" font-family=\"Times,serif\" font-size=\"14.00\" fill=\"#000000\">x1w1 + x2w2</text>\n<polyline fill=\"none\" stroke=\"#000000\" points=\"787,-82.5 787,-118.5 \"/>\n<text text-anchor=\"middle\" x=\"831.5\" y=\"-96.8\" font-family=\"Times,serif\" font-size=\"14.00\" fill=\"#000000\">data &#45;6.0000</text>\n<polyline fill=\"none\" stroke=\"#000000\" points=\"876,-82.5 876,-118.5 \"/>\n<text text-anchor=\"middle\" x=\"919.5\" y=\"-96.8\" font-family=\"Times,serif\" font-size=\"14.00\" fill=\"#000000\">grad 0.5000</text>\n</g>\n<!-- 140051402347376+ -->\n<g id=\"node28\" class=\"node\">\n<title>140051402347376+</title>\n<ellipse fill=\"none\" stroke=\"#000000\" cx=\"1026\" cy=\"-72.5\" rx=\"27\" ry=\"18\"/>\n<text text-anchor=\"middle\" x=\"1026\" y=\"-68.8\" font-family=\"Times,serif\" font-size=\"14.00\" fill=\"#000000\">+</text>\n</g>\n<!-- 140051402403648&#45;&gt;140051402347376+ -->\n<g id=\"edge11\" class=\"edge\">\n<title>140051402403648&#45;&gt;140051402347376+</title>\n<path fill=\"none\" stroke=\"#000000\" d=\"M954.6424,-82.4901C967.1363,-80.7409 978.9788,-79.083 989.2952,-77.6387\"/>\n<polygon fill=\"#000000\" stroke=\"#000000\" points=\"990.0388,-81.0688 999.4569,-76.216 989.0682,-74.1364 990.0388,-81.0688\"/>\n</g>\n<!-- 140051402403648+&#45;&gt;140051402403648 -->\n<g id=\"edge7\" class=\"edge\">\n<title>140051402403648+&#45;&gt;140051402403648</title>\n<path fill=\"none\" stroke=\"#000000\" d=\"M653.3898,-100.5C660.7749,-100.5 669.3064,-100.5 678.5408,-100.5\"/>\n<polygon fill=\"#000000\" stroke=\"#000000\" points=\"678.8161,-104.0001 688.816,-100.5 678.816,-97.0001 678.8161,-104.0001\"/>\n</g>\n<!-- 140051561942368 -->\n<g id=\"node20\" class=\"node\">\n<title>140051561942368</title>\n<polygon fill=\"none\" stroke=\"#000000\" points=\"2052,-108.5 2052,-144.5 2249,-144.5 2249,-108.5 2052,-108.5\"/>\n<text text-anchor=\"middle\" x=\"2062\" y=\"-122.8\" font-family=\"Times,serif\" font-size=\"14.00\" fill=\"#000000\"> </text>\n<polyline fill=\"none\" stroke=\"#000000\" points=\"2072,-108.5 2072,-144.5 \"/>\n<text text-anchor=\"middle\" x=\"2114.5\" y=\"-122.8\" font-family=\"Times,serif\" font-size=\"14.00\" fill=\"#000000\">data 6.8284</text>\n<polyline fill=\"none\" stroke=\"#000000\" points=\"2157,-108.5 2157,-144.5 \"/>\n<text text-anchor=\"middle\" x=\"2203\" y=\"-122.8\" font-family=\"Times,serif\" font-size=\"14.00\" fill=\"#000000\">grad &#45;0.1036</text>\n</g>\n<!-- 140051402349920**&#45;1 -->\n<g id=\"node23\" class=\"node\">\n<title>140051402349920**&#45;1</title>\n<ellipse fill=\"none\" stroke=\"#000000\" cx=\"2381\" cy=\"-126.5\" rx=\"28.6953\" ry=\"18\"/>\n<text text-anchor=\"middle\" x=\"2381\" y=\"-122.8\" font-family=\"Times,serif\" font-size=\"14.00\" fill=\"#000000\">**&#45;1</text>\n</g>\n<!-- 140051561942368&#45;&gt;140051402349920**&#45;1 -->\n<g id=\"edge27\" class=\"edge\">\n<title>140051561942368&#45;&gt;140051402349920**&#45;1</title>\n<path fill=\"none\" stroke=\"#000000\" d=\"M2249.2558,-126.5C2282.1184,-126.5 2316.8079,-126.5 2342.3374,-126.5\"/>\n<polygon fill=\"#000000\" stroke=\"#000000\" points=\"2342.3393,-130.0001 2352.3393,-126.5 2342.3392,-123.0001 2342.3393,-130.0001\"/>\n</g>\n<!-- 140051561942368+&#45;&gt;140051561942368 -->\n<g id=\"edge8\" class=\"edge\">\n<title>140051561942368+&#45;&gt;140051561942368</title>\n<path fill=\"none\" stroke=\"#000000\" d=\"M2016.0315,-126.5C2023.6149,-126.5 2032.3553,-126.5 2041.6644,-126.5\"/>\n<polygon fill=\"#000000\" stroke=\"#000000\" points=\"2041.9613,-130.0001 2051.9613,-126.5 2041.9613,-123.0001 2041.9613,-130.0001\"/>\n</g>\n<!-- 140051402349920 -->\n<g id=\"node22\" class=\"node\">\n<title>140051402349920</title>\n<polygon fill=\"none\" stroke=\"#000000\" points=\"2513,-106.5 2513,-142.5 2705,-142.5 2705,-106.5 2513,-106.5\"/>\n<text text-anchor=\"middle\" x=\"2523\" y=\"-120.8\" font-family=\"Times,serif\" font-size=\"14.00\" fill=\"#000000\"> </text>\n<polyline fill=\"none\" stroke=\"#000000\" points=\"2533,-106.5 2533,-142.5 \"/>\n<text text-anchor=\"middle\" x=\"2575.5\" y=\"-120.8\" font-family=\"Times,serif\" font-size=\"14.00\" fill=\"#000000\">data 0.1464</text>\n<polyline fill=\"none\" stroke=\"#000000\" points=\"2618,-106.5 2618,-142.5 \"/>\n<text text-anchor=\"middle\" x=\"2661.5\" y=\"-120.8\" font-family=\"Times,serif\" font-size=\"14.00\" fill=\"#000000\">grad 4.8284</text>\n</g>\n<!-- 140051402349920&#45;&gt;140051402347184* -->\n<g id=\"edge22\" class=\"edge\">\n<title>140051402349920&#45;&gt;140051402347184*</title>\n<path fill=\"none\" stroke=\"#000000\" d=\"M2705.159,-108.7759C2714.4355,-107.259 2723.3952,-105.7939 2731.5016,-104.4683\"/>\n<polygon fill=\"#000000\" stroke=\"#000000\" points=\"2732.3176,-107.8814 2741.6217,-102.8134 2731.1879,-100.9732 2732.3176,-107.8814\"/>\n</g>\n<!-- 140051402349920**&#45;1&#45;&gt;140051402349920 -->\n<g id=\"edge9\" class=\"edge\">\n<title>140051402349920**&#45;1&#45;&gt;140051402349920</title>\n<path fill=\"none\" stroke=\"#000000\" d=\"M2409.8764,-126.2467C2433.5427,-126.0391 2468.5807,-125.7317 2502.6954,-125.4325\"/>\n<polygon fill=\"#000000\" stroke=\"#000000\" points=\"2502.7904,-128.9319 2512.7593,-125.3442 2502.7289,-121.9322 2502.7904,-128.9319\"/>\n</g>\n<!-- 140051402374016 -->\n<g id=\"node24\" class=\"node\">\n<title>140051402374016</title>\n<polygon fill=\"none\" stroke=\"#000000\" points=\"728,-27.5 728,-63.5 924,-63.5 924,-27.5 728,-27.5\"/>\n<text text-anchor=\"middle\" x=\"740\" y=\"-41.8\" font-family=\"Times,serif\" font-size=\"14.00\" fill=\"#000000\">b</text>\n<polyline fill=\"none\" stroke=\"#000000\" points=\"752,-27.5 752,-63.5 \"/>\n<text text-anchor=\"middle\" x=\"794.5\" y=\"-41.8\" font-family=\"Times,serif\" font-size=\"14.00\" fill=\"#000000\">data 6.8814</text>\n<polyline fill=\"none\" stroke=\"#000000\" points=\"837,-27.5 837,-63.5 \"/>\n<text text-anchor=\"middle\" x=\"880.5\" y=\"-41.8\" font-family=\"Times,serif\" font-size=\"14.00\" fill=\"#000000\">grad 0.5000</text>\n</g>\n<!-- 140051402374016&#45;&gt;140051402347376+ -->\n<g id=\"edge18\" class=\"edge\">\n<title>140051402374016&#45;&gt;140051402347376+</title>\n<path fill=\"none\" stroke=\"#000000\" d=\"M924.2423,-58.7627C947.4727,-61.8988 970.8296,-65.052 989.2964,-67.545\"/>\n<polygon fill=\"#000000\" stroke=\"#000000\" points=\"988.9145,-71.0251 999.2929,-68.8945 989.8511,-64.0881 988.9145,-71.0251\"/>\n</g>\n<!-- 140051402346896 -->\n<g id=\"node25\" class=\"node\">\n<title>140051402346896</title>\n<polygon fill=\"none\" stroke=\"#000000\" points=\"1091,-109.5 1091,-145.5 1283,-145.5 1283,-109.5 1091,-109.5\"/>\n<text text-anchor=\"middle\" x=\"1101\" y=\"-123.8\" font-family=\"Times,serif\" font-size=\"14.00\" fill=\"#000000\"> </text>\n<polyline fill=\"none\" stroke=\"#000000\" points=\"1111,-109.5 1111,-145.5 \"/>\n<text text-anchor=\"middle\" x=\"1153.5\" y=\"-123.8\" font-family=\"Times,serif\" font-size=\"14.00\" fill=\"#000000\">data 2.0000</text>\n<polyline fill=\"none\" stroke=\"#000000\" points=\"1196,-109.5 1196,-145.5 \"/>\n<text text-anchor=\"middle\" x=\"1239.5\" y=\"-123.8\" font-family=\"Times,serif\" font-size=\"14.00\" fill=\"#000000\">grad 0.2203</text>\n</g>\n<!-- 140051402346896&#45;&gt;140051402349296* -->\n<g id=\"edge17\" class=\"edge\">\n<title>140051402346896&#45;&gt;140051402349296*</title>\n<path fill=\"none\" stroke=\"#000000\" d=\"M1283.4428,-110.7273C1293.4412,-108.9885 1303.0978,-107.3091 1311.7618,-105.8023\"/>\n<polygon fill=\"#000000\" stroke=\"#000000\" points=\"1312.5415,-109.2193 1321.7939,-104.0576 1311.342,-102.3228 1312.5415,-109.2193\"/>\n</g>\n<!-- 140051402372960 -->\n<g id=\"node26\" class=\"node\">\n<title>140051402372960</title>\n<polygon fill=\"none\" stroke=\"#000000\" points=\"2,-110.5 2,-146.5 209,-146.5 209,-110.5 2,-110.5\"/>\n<text text-anchor=\"middle\" x=\"19.5\" y=\"-124.8\" font-family=\"Times,serif\" font-size=\"14.00\" fill=\"#000000\">w2</text>\n<polyline fill=\"none\" stroke=\"#000000\" points=\"37,-110.5 37,-146.5 \"/>\n<text text-anchor=\"middle\" x=\"79.5\" y=\"-124.8\" font-family=\"Times,serif\" font-size=\"14.00\" fill=\"#000000\">data 1.0000</text>\n<polyline fill=\"none\" stroke=\"#000000\" points=\"122,-110.5 122,-146.5 \"/>\n<text text-anchor=\"middle\" x=\"165.5\" y=\"-124.8\" font-family=\"Times,serif\" font-size=\"14.00\" fill=\"#000000\">grad 0.0000</text>\n</g>\n<!-- 140051402372960&#45;&gt;140051402372720* -->\n<g id=\"edge19\" class=\"edge\">\n<title>140051402372960&#45;&gt;140051402372720*</title>\n<path fill=\"none\" stroke=\"#000000\" d=\"M209.3354,-128.5C219.0497,-128.5 228.3963,-128.5 236.8187,-128.5\"/>\n<polygon fill=\"#000000\" stroke=\"#000000\" points=\"236.951,-132.0001 246.9509,-128.5 236.9509,-125.0001 236.951,-132.0001\"/>\n</g>\n<!-- 140051402347376 -->\n<g id=\"node27\" class=\"node\">\n<title>140051402347376</title>\n<polygon fill=\"none\" stroke=\"#000000\" points=\"1089,-54.5 1089,-90.5 1285,-90.5 1285,-54.5 1089,-54.5\"/>\n<text text-anchor=\"middle\" x=\"1101\" y=\"-68.8\" font-family=\"Times,serif\" font-size=\"14.00\" fill=\"#000000\">n</text>\n<polyline fill=\"none\" stroke=\"#000000\" points=\"1113,-54.5 1113,-90.5 \"/>\n<text text-anchor=\"middle\" x=\"1155.5\" y=\"-68.8\" font-family=\"Times,serif\" font-size=\"14.00\" fill=\"#000000\">data 0.8814</text>\n<polyline fill=\"none\" stroke=\"#000000\" points=\"1198,-54.5 1198,-90.5 \"/>\n<text text-anchor=\"middle\" x=\"1241.5\" y=\"-68.8\" font-family=\"Times,serif\" font-size=\"14.00\" fill=\"#000000\">grad 0.5000</text>\n</g>\n<!-- 140051402347376&#45;&gt;140051402349296* -->\n<g id=\"edge21\" class=\"edge\">\n<title>140051402347376&#45;&gt;140051402349296*</title>\n<path fill=\"none\" stroke=\"#000000\" d=\"M1285.2922,-88.9838C1294.5786,-90.5411 1303.5324,-92.0427 1311.6253,-93.3999\"/>\n<polygon fill=\"#000000\" stroke=\"#000000\" points=\"1311.2825,-96.8912 1321.7237,-95.0934 1312.4403,-89.9876 1311.2825,-96.8912\"/>\n</g>\n<!-- 140051402347376+&#45;&gt;140051402347376 -->\n<g id=\"edge10\" class=\"edge\">\n<title>140051402347376+&#45;&gt;140051402347376</title>\n<path fill=\"none\" stroke=\"#000000\" d=\"M1053.3115,-72.5C1060.8223,-72.5 1069.4512,-72.5 1078.6318,-72.5\"/>\n<polygon fill=\"#000000\" stroke=\"#000000\" points=\"1078.7835,-76.0001 1088.7835,-72.5 1078.7835,-69.0001 1078.7835,-76.0001\"/>\n</g>\n</g>\n</svg>\n"
          },
          "metadata": {},
          "execution_count": 109
        }
      ]
    },
    {
      "cell_type": "code",
      "source": [
        "o.backward()"
      ],
      "metadata": {
        "id": "DWvlvaR1bDHt"
      },
      "execution_count": 69,
      "outputs": []
    },
    {
      "cell_type": "code",
      "source": [
        "o.grad = 1.0\n",
        "\n",
        "topo = []\n",
        "visited = set()\n",
        "def build_topo(v):\n",
        "    if v not in visited:\n",
        "        visited.add(v)\n",
        "        for child in v._prev:\n",
        "            build_topo(child)\n",
        "        topo.append(v)\n",
        "\n",
        "build_topo(o)\n",
        "\n",
        "for node in reversed(topo):\n",
        "    node._backward()"
      ],
      "metadata": {
        "id": "ilyRHImMZ9HH"
      },
      "execution_count": 64,
      "outputs": []
    },
    {
      "cell_type": "code",
      "source": [
        "# topological order all of the children in the graph\n",
        "topo = []\n",
        "visited = set()\n",
        "def build_topo(v):\n",
        "    if v not in visited:\n",
        "        visited.add(v)\n",
        "        for child in v._prev:\n",
        "            build_topo(child)\n",
        "        topo.append(v)\n",
        "build_topo(o)\n",
        "topo"
      ],
      "metadata": {
        "colab": {
          "base_uri": "https://localhost:8080/"
        },
        "id": "Z1oyhDc_ZINB",
        "outputId": "571142c9-b20b-4f69-dbbd-b56f9d00b606"
      },
      "execution_count": 61,
      "outputs": [
        {
          "output_type": "execute_result",
          "data": {
            "text/plain": [
              "[Value(data=6.881373587019543),\n",
              " Value(data=0.0),\n",
              " Value(data=1.0),\n",
              " Value(data=0.0),\n",
              " Value(data=2.0),\n",
              " Value(data=-3.0),\n",
              " Value(data=-6.0),\n",
              " Value(data=-6.0),\n",
              " Value(data=0.8813735870195432),\n",
              " Value(data=0.7071067811865476)]"
            ]
          },
          "metadata": {},
          "execution_count": 61
        }
      ]
    },
    {
      "cell_type": "code",
      "source": [
        "o.grad = 1.0"
      ],
      "metadata": {
        "id": "62cOxF__WqRL"
      },
      "execution_count": 49,
      "outputs": []
    },
    {
      "cell_type": "code",
      "source": [
        "o._backward()"
      ],
      "metadata": {
        "id": "gkM8BOZtWNvt"
      },
      "execution_count": 51,
      "outputs": []
    },
    {
      "cell_type": "code",
      "source": [
        "n._backward()"
      ],
      "metadata": {
        "id": "t0lv1hErXI61"
      },
      "execution_count": 53,
      "outputs": []
    },
    {
      "cell_type": "code",
      "source": [
        "b._backward()"
      ],
      "metadata": {
        "id": "A31cboqTXgdm"
      },
      "execution_count": 55,
      "outputs": []
    },
    {
      "cell_type": "code",
      "source": [
        "x1w1x2w2._backward()"
      ],
      "metadata": {
        "id": "Ccuj9hb-XqSA"
      },
      "execution_count": 57,
      "outputs": []
    },
    {
      "cell_type": "code",
      "source": [
        "x2w2._backward()\n",
        "x1w1._backward()"
      ],
      "metadata": {
        "id": "3JhPpNOzX4jH"
      },
      "execution_count": 59,
      "outputs": []
    },
    {
      "cell_type": "code",
      "source": [
        "o.grad = 1.0\n",
        "n.grad = 1-o.data**2\n",
        "x1w1x2w2.grad = n.grad\n",
        "b.grad = n.grad\n",
        "x1w1.grad = x1w1x2w2.grad\n",
        "x2w2.grad = x1w1x2w2.grad\n",
        "w2.grad = x2.data * x2w2.grad\n",
        "w1.grad = x1.data * x1w1.grad\n",
        "x2.grad = w2.data * x2w2.grad\n",
        "x1.grad = w1.data * x1w1.grad"
      ],
      "metadata": {
        "id": "9tnHgbfnFv8_"
      },
      "execution_count": 36,
      "outputs": []
    },
    {
      "cell_type": "code",
      "source": [
        "a = Value(3.0, label='a')\n",
        "b = a + a\n",
        "b.backward()\n",
        "draw_dot(b)"
      ],
      "metadata": {
        "colab": {
          "base_uri": "https://localhost:8080/",
          "height": 81
        },
        "id": "FZJ5oaYmcZj4",
        "outputId": "b1593f82-0530-4824-c6a5-fe6e5747d3c2"
      },
      "execution_count": 72,
      "outputs": [
        {
          "output_type": "execute_result",
          "data": {
            "text/plain": [
              "<graphviz.dot.Digraph at 0x7f60423ff370>"
            ],
            "image/svg+xml": "<?xml version=\"1.0\" encoding=\"UTF-8\" standalone=\"no\"?>\n<!DOCTYPE svg PUBLIC \"-//W3C//DTD SVG 1.1//EN\"\n \"http://www.w3.org/Graphics/SVG/1.1/DTD/svg11.dtd\">\n<!-- Generated by graphviz version 2.40.1 (20161225.0304)\n -->\n<!-- Title: %3 Pages: 1 -->\n<svg width=\"521pt\" height=\"45pt\"\n viewBox=\"0.00 0.00 521.00 45.00\" xmlns=\"http://www.w3.org/2000/svg\" xmlns:xlink=\"http://www.w3.org/1999/xlink\">\n<g id=\"graph0\" class=\"graph\" transform=\"scale(1 1) rotate(0) translate(4 41)\">\n<title>%3</title>\n<polygon fill=\"#ffffff\" stroke=\"transparent\" points=\"-4,4 -4,-41 517,-41 517,4 -4,4\"/>\n<!-- 140051405078048 -->\n<g id=\"node1\" class=\"node\">\n<title>140051405078048</title>\n<polygon fill=\"none\" stroke=\"#000000\" points=\"0,-.5 0,-36.5 195,-36.5 195,-.5 0,-.5\"/>\n<text text-anchor=\"middle\" x=\"11.5\" y=\"-14.8\" font-family=\"Times,serif\" font-size=\"14.00\" fill=\"#000000\">a</text>\n<polyline fill=\"none\" stroke=\"#000000\" points=\"23,-.5 23,-36.5 \"/>\n<text text-anchor=\"middle\" x=\"65.5\" y=\"-14.8\" font-family=\"Times,serif\" font-size=\"14.00\" fill=\"#000000\">data 3.0000</text>\n<polyline fill=\"none\" stroke=\"#000000\" points=\"108,-.5 108,-36.5 \"/>\n<text text-anchor=\"middle\" x=\"151.5\" y=\"-14.8\" font-family=\"Times,serif\" font-size=\"14.00\" fill=\"#000000\">grad 2.0000</text>\n</g>\n<!-- 140051405074640+ -->\n<g id=\"node3\" class=\"node\">\n<title>140051405074640+</title>\n<ellipse fill=\"none\" stroke=\"#000000\" cx=\"258\" cy=\"-18.5\" rx=\"27\" ry=\"18\"/>\n<text text-anchor=\"middle\" x=\"258\" y=\"-14.8\" font-family=\"Times,serif\" font-size=\"14.00\" fill=\"#000000\">+</text>\n</g>\n<!-- 140051405078048&#45;&gt;140051405074640+ -->\n<g id=\"edge2\" class=\"edge\">\n<title>140051405078048&#45;&gt;140051405074640+</title>\n<path fill=\"none\" stroke=\"#000000\" d=\"M195.0268,-18.5C204.1551,-18.5 212.9704,-18.5 220.9692,-18.5\"/>\n<polygon fill=\"#000000\" stroke=\"#000000\" points=\"220.9719,-22.0001 230.9718,-18.5 220.9718,-15.0001 220.9719,-22.0001\"/>\n</g>\n<!-- 140051405074640 -->\n<g id=\"node2\" class=\"node\">\n<title>140051405074640</title>\n<polygon fill=\"none\" stroke=\"#000000\" points=\"321,-.5 321,-36.5 513,-36.5 513,-.5 321,-.5\"/>\n<text text-anchor=\"middle\" x=\"331\" y=\"-14.8\" font-family=\"Times,serif\" font-size=\"14.00\" fill=\"#000000\"> </text>\n<polyline fill=\"none\" stroke=\"#000000\" points=\"341,-.5 341,-36.5 \"/>\n<text text-anchor=\"middle\" x=\"383.5\" y=\"-14.8\" font-family=\"Times,serif\" font-size=\"14.00\" fill=\"#000000\">data 6.0000</text>\n<polyline fill=\"none\" stroke=\"#000000\" points=\"426,-.5 426,-36.5 \"/>\n<text text-anchor=\"middle\" x=\"469.5\" y=\"-14.8\" font-family=\"Times,serif\" font-size=\"14.00\" fill=\"#000000\">grad 1.0000</text>\n</g>\n<!-- 140051405074640+&#45;&gt;140051405074640 -->\n<g id=\"edge1\" class=\"edge\">\n<title>140051405074640+&#45;&gt;140051405074640</title>\n<path fill=\"none\" stroke=\"#000000\" d=\"M285.3331,-18.5C292.8317,-18.5 301.4389,-18.5 310.5849,-18.5\"/>\n<polygon fill=\"#000000\" stroke=\"#000000\" points=\"310.6939,-22.0001 320.6939,-18.5 310.6939,-15.0001 310.6939,-22.0001\"/>\n</g>\n</g>\n</svg>\n"
          },
          "metadata": {},
          "execution_count": 72
        }
      ]
    },
    {
      "cell_type": "code",
      "source": [
        "a = Value(2.0, label='a')\n",
        "b = Value(4.0, label='a')\n",
        "c = a / b\n",
        "c.backward()\n",
        "draw_dot(c)"
      ],
      "metadata": {
        "colab": {
          "base_uri": "https://localhost:8080/",
          "height": 154
        },
        "id": "Gj7wCFKeii7D",
        "outputId": "6806f271-7684-4a1a-d847-5d8d8aea9799"
      },
      "execution_count": 75,
      "outputs": [
        {
          "output_type": "execute_result",
          "data": {
            "text/plain": [
              "<graphviz.dot.Digraph at 0x7f6042254a90>"
            ],
            "image/svg+xml": "<?xml version=\"1.0\" encoding=\"UTF-8\" standalone=\"no\"?>\n<!DOCTYPE svg PUBLIC \"-//W3C//DTD SVG 1.1//EN\"\n \"http://www.w3.org/Graphics/SVG/1.1/DTD/svg11.dtd\">\n<!-- Generated by graphviz version 2.40.1 (20161225.0304)\n -->\n<!-- Title: %3 Pages: 1 -->\n<svg width=\"850pt\" height=\"100pt\"\n viewBox=\"0.00 0.00 850.19 100.00\" xmlns=\"http://www.w3.org/2000/svg\" xmlns:xlink=\"http://www.w3.org/1999/xlink\">\n<g id=\"graph0\" class=\"graph\" transform=\"scale(1 1) rotate(0) translate(4 96)\">\n<title>%3</title>\n<polygon fill=\"#ffffff\" stroke=\"transparent\" points=\"-4,4 -4,-96 846.1949,-96 846.1949,4 -4,4\"/>\n<!-- 140051403327040 -->\n<g id=\"node1\" class=\"node\">\n<title>140051403327040</title>\n<polygon fill=\"none\" stroke=\"#000000\" points=\"329.1949,-55.5 329.1949,-91.5 524.1949,-91.5 524.1949,-55.5 329.1949,-55.5\"/>\n<text text-anchor=\"middle\" x=\"340.6949\" y=\"-69.8\" font-family=\"Times,serif\" font-size=\"14.00\" fill=\"#000000\">a</text>\n<polyline fill=\"none\" stroke=\"#000000\" points=\"352.1949,-55.5 352.1949,-91.5 \"/>\n<text text-anchor=\"middle\" x=\"394.6949\" y=\"-69.8\" font-family=\"Times,serif\" font-size=\"14.00\" fill=\"#000000\">data 2.0000</text>\n<polyline fill=\"none\" stroke=\"#000000\" points=\"437.1949,-55.5 437.1949,-91.5 \"/>\n<text text-anchor=\"middle\" x=\"480.6949\" y=\"-69.8\" font-family=\"Times,serif\" font-size=\"14.00\" fill=\"#000000\">grad 0.2500</text>\n</g>\n<!-- 140051403327856* -->\n<g id=\"node6\" class=\"node\">\n<title>140051403327856*</title>\n<ellipse fill=\"none\" stroke=\"#000000\" cx=\"587.1949\" cy=\"-45.5\" rx=\"27\" ry=\"18\"/>\n<text text-anchor=\"middle\" x=\"587.1949\" y=\"-41.8\" font-family=\"Times,serif\" font-size=\"14.00\" fill=\"#000000\">*</text>\n</g>\n<!-- 140051403327040&#45;&gt;140051403327856* -->\n<g id=\"edge4\" class=\"edge\">\n<title>140051403327040&#45;&gt;140051403327856*</title>\n<path fill=\"none\" stroke=\"#000000\" d=\"M524.2217,-56.486C533.6372,-54.8434 542.7196,-53.2589 550.9166,-51.8289\"/>\n<polygon fill=\"#000000\" stroke=\"#000000\" points=\"551.5347,-55.2741 560.7843,-50.1075 550.3316,-48.3782 551.5347,-55.2741\"/>\n</g>\n<!-- 140051403327136 -->\n<g id=\"node2\" class=\"node\">\n<title>140051403327136</title>\n<polygon fill=\"none\" stroke=\"#000000\" points=\"330.6949,-.5 330.6949,-36.5 522.6949,-36.5 522.6949,-.5 330.6949,-.5\"/>\n<text text-anchor=\"middle\" x=\"340.6949\" y=\"-14.8\" font-family=\"Times,serif\" font-size=\"14.00\" fill=\"#000000\"> </text>\n<polyline fill=\"none\" stroke=\"#000000\" points=\"350.6949,-.5 350.6949,-36.5 \"/>\n<text text-anchor=\"middle\" x=\"393.1949\" y=\"-14.8\" font-family=\"Times,serif\" font-size=\"14.00\" fill=\"#000000\">data 0.2500</text>\n<polyline fill=\"none\" stroke=\"#000000\" points=\"435.6949,-.5 435.6949,-36.5 \"/>\n<text text-anchor=\"middle\" x=\"479.1949\" y=\"-14.8\" font-family=\"Times,serif\" font-size=\"14.00\" fill=\"#000000\">grad 2.0000</text>\n</g>\n<!-- 140051403327136&#45;&gt;140051403327856* -->\n<g id=\"edge5\" class=\"edge\">\n<title>140051403327136&#45;&gt;140051403327856*</title>\n<path fill=\"none\" stroke=\"#000000\" d=\"M522.8382,-34.6736C532.7107,-36.3344 542.2488,-37.939 550.8222,-39.3812\"/>\n<polygon fill=\"#000000\" stroke=\"#000000\" points=\"550.317,-42.8453 560.7591,-41.0528 551.4783,-35.9423 550.317,-42.8453\"/>\n</g>\n<!-- 140051403327136**&#45;1 -->\n<g id=\"node3\" class=\"node\">\n<title>140051403327136**&#45;1</title>\n<ellipse fill=\"none\" stroke=\"#000000\" cx=\"264.5975\" cy=\"-18.5\" rx=\"28.6953\" ry=\"18\"/>\n<text text-anchor=\"middle\" x=\"264.5975\" y=\"-14.8\" font-family=\"Times,serif\" font-size=\"14.00\" fill=\"#000000\">**&#45;1</text>\n</g>\n<!-- 140051403327136**&#45;1&#45;&gt;140051403327136 -->\n<g id=\"edge1\" class=\"edge\">\n<title>140051403327136**&#45;1&#45;&gt;140051403327136</title>\n<path fill=\"none\" stroke=\"#000000\" d=\"M293.2041,-18.5C301.3159,-18.5 310.656,-18.5 320.5495,-18.5\"/>\n<polygon fill=\"#000000\" stroke=\"#000000\" points=\"320.6027,-22.0001 330.6027,-18.5 320.6026,-15.0001 320.6027,-22.0001\"/>\n</g>\n<!-- 140051403327424 -->\n<g id=\"node4\" class=\"node\">\n<title>140051403327424</title>\n<polygon fill=\"none\" stroke=\"#000000\" points=\"0,-.5 0,-36.5 200,-36.5 200,-.5 0,-.5\"/>\n<text text-anchor=\"middle\" x=\"11.5\" y=\"-14.8\" font-family=\"Times,serif\" font-size=\"14.00\" fill=\"#000000\">a</text>\n<polyline fill=\"none\" stroke=\"#000000\" points=\"23,-.5 23,-36.5 \"/>\n<text text-anchor=\"middle\" x=\"65.5\" y=\"-14.8\" font-family=\"Times,serif\" font-size=\"14.00\" fill=\"#000000\">data 4.0000</text>\n<polyline fill=\"none\" stroke=\"#000000\" points=\"108,-.5 108,-36.5 \"/>\n<text text-anchor=\"middle\" x=\"154\" y=\"-14.8\" font-family=\"Times,serif\" font-size=\"14.00\" fill=\"#000000\">grad &#45;0.1250</text>\n</g>\n<!-- 140051403327424&#45;&gt;140051403327136**&#45;1 -->\n<g id=\"edge3\" class=\"edge\">\n<title>140051403327424&#45;&gt;140051403327136**&#45;1</title>\n<path fill=\"none\" stroke=\"#000000\" d=\"M200.0166,-18.5C209.0971,-18.5 217.8755,-18.5 225.8808,-18.5\"/>\n<polygon fill=\"#000000\" stroke=\"#000000\" points=\"225.9195,-22.0001 235.9194,-18.5 225.9194,-15.0001 225.9195,-22.0001\"/>\n</g>\n<!-- 140051403327856 -->\n<g id=\"node5\" class=\"node\">\n<title>140051403327856</title>\n<polygon fill=\"none\" stroke=\"#000000\" points=\"650.1949,-27.5 650.1949,-63.5 842.1949,-63.5 842.1949,-27.5 650.1949,-27.5\"/>\n<text text-anchor=\"middle\" x=\"660.1949\" y=\"-41.8\" font-family=\"Times,serif\" font-size=\"14.00\" fill=\"#000000\"> </text>\n<polyline fill=\"none\" stroke=\"#000000\" points=\"670.1949,-27.5 670.1949,-63.5 \"/>\n<text text-anchor=\"middle\" x=\"712.6949\" y=\"-41.8\" font-family=\"Times,serif\" font-size=\"14.00\" fill=\"#000000\">data 0.5000</text>\n<polyline fill=\"none\" stroke=\"#000000\" points=\"755.1949,-27.5 755.1949,-63.5 \"/>\n<text text-anchor=\"middle\" x=\"798.6949\" y=\"-41.8\" font-family=\"Times,serif\" font-size=\"14.00\" fill=\"#000000\">grad 1.0000</text>\n</g>\n<!-- 140051403327856*&#45;&gt;140051403327856 -->\n<g id=\"edge2\" class=\"edge\">\n<title>140051403327856*&#45;&gt;140051403327856</title>\n<path fill=\"none\" stroke=\"#000000\" d=\"M614.528,-45.5C622.0266,-45.5 630.6338,-45.5 639.7798,-45.5\"/>\n<polygon fill=\"#000000\" stroke=\"#000000\" points=\"639.8888,-49.0001 649.8888,-45.5 639.8888,-42.0001 639.8888,-49.0001\"/>\n</g>\n</g>\n</svg>\n"
          },
          "metadata": {},
          "execution_count": 75
        }
      ]
    },
    {
      "cell_type": "code",
      "source": [
        "import torch"
      ],
      "metadata": {
        "id": "rnwxbqWXwxpZ"
      },
      "execution_count": 110,
      "outputs": []
    },
    {
      "cell_type": "code",
      "source": [
        "x1 = torch.Tensor([2.0]).double() ; x1.requires_grad = True\n",
        "x2 = torch.Tensor([0.0]).double() ; x2.requires_grad = True\n",
        "w1 = torch.Tensor([-3.0]).double() ; w1.requires_grad = True\n",
        "w2 = torch.Tensor([1.0]).double() ; w2.requires_grad = True\n",
        "b = torch.Tensor([6.8813735870195432]).double() ; b.requires_grad = True\n",
        "n = x1*w1 + x2*w2 + b\n",
        "o = torch.tanh(n)\n",
        "\n",
        "print(o.data.item())\n",
        "\n",
        "o.backward()\n",
        "\n",
        "print(\"------\")\n",
        "print('x2', x2.grad.item())\n",
        "print('w2', w2.grad.item())\n",
        "print('x1', x1.grad.item())\n",
        "print('w1', w1.grad.item())\n",
        "\n"
      ],
      "metadata": {
        "colab": {
          "base_uri": "https://localhost:8080/"
        },
        "id": "F6HBGhCswzsP",
        "outputId": "a6413c91-c2ee-4f2e-9029-0730f21aecbf"
      },
      "execution_count": 120,
      "outputs": [
        {
          "output_type": "stream",
          "name": "stdout",
          "text": [
            "0.7071066904050358\n",
            "------\n",
            "x2 0.5000001283844369\n",
            "w2 0.0\n",
            "x1 -1.5000003851533106\n",
            "w1 1.0000002567688737\n"
          ]
        }
      ]
    },
    {
      "cell_type": "code",
      "source": [
        "w = [random.uniform(-1,1) for _ in range(2)]\n",
        "x = [2.0, 3.0]\n",
        "l = [(f\"{wi}*{xi}\", wi*xi) for wi, xi in zip(w, x)]"
      ],
      "metadata": {
        "id": "9YdBqn203Dc6"
      },
      "execution_count": 171,
      "outputs": []
    },
    {
      "cell_type": "code",
      "source": [
        "sum(wx for _, wx in l)"
      ],
      "metadata": {
        "colab": {
          "base_uri": "https://localhost:8080/"
        },
        "id": "YFipKThT4AnV",
        "outputId": "06caf158-3140-4afd-c939-0ccc88b9a6b6"
      },
      "execution_count": 173,
      "outputs": [
        {
          "output_type": "execute_result",
          "data": {
            "text/plain": [
              "-1.2753820948041361"
            ]
          },
          "metadata": {},
          "execution_count": 173
        }
      ]
    },
    {
      "cell_type": "code",
      "source": [
        "import random\n",
        "\n",
        "class Neuron:\n",
        "\n",
        "    def __init__(self, nin):\n",
        "        self.w = [Value(random.uniform(-1,1)) for _ in range(nin)]\n",
        "        self.b = Value(random.uniform(-1,1))\n",
        "\n",
        "    def __call__(self, x):\n",
        "        act = sum((wi * xi for wi, xi in zip(self.w, x)), self.b)\n",
        "        out = act.tanh()\n",
        "\n",
        "        return out\n",
        "    def parameters(self):\n",
        "      return self.w + [self.b]\n",
        "\n",
        "class Layer:\n",
        "\n",
        "    def __init__(self, nin, nout):\n",
        "        self.neurons = [Neuron(nin) for _ in range(nout)]\n",
        "\n",
        "    def __call__(self, x):\n",
        "        outs = [n(x) for n in self.neurons]\n",
        "        return outs[0] if len(outs) == 1 else outs\n",
        "\n",
        "    def parameters(self):\n",
        "      return [p for n in self.neurons for p in n.parameters()]\n",
        "\n",
        "class MLP:\n",
        "\n",
        "    def __init__(self, nin, nouts):\n",
        "        sz = [nin] + nouts\n",
        "        self.layers = [Layer(sz[i], sz[i+1]) for i in range(len(nouts))]\n",
        "\n",
        "    def __call__(self, x):\n",
        "        for layer in self.layers:\n",
        "            x = layer(x)\n",
        "        return x\n",
        "\n",
        "    def parameters(self):\n",
        "      return [p for layer in self.layers for p in layer.parameters()]"
      ],
      "metadata": {
        "id": "TVa5B-2m3FhO"
      },
      "execution_count": 328,
      "outputs": []
    },
    {
      "cell_type": "code",
      "source": [
        "x = [2.0, 3.0, -1.0]\n",
        "n = MLP(3, [4, 4, 1])\n",
        "n(x)"
      ],
      "metadata": {
        "colab": {
          "base_uri": "https://localhost:8080/"
        },
        "id": "o5ZecjTCRuhd",
        "outputId": "65c6d3ab-0054-4192-b83d-a95cef476014"
      },
      "execution_count": 469,
      "outputs": [
        {
          "output_type": "execute_result",
          "data": {
            "text/plain": [
              "Value(data=0.9847496640036014)"
            ]
          },
          "metadata": {},
          "execution_count": 469
        }
      ]
    },
    {
      "cell_type": "code",
      "source": [
        "xs = [[2.0, 3.0, -1.0],\n",
        "      [3.0, -1.0, 0.5],\n",
        "      [0.5, 1.0, 1.0],\n",
        "      [1.0, 1.0, -1.0]]\n",
        "\n",
        "ys = [1.0, -1.0, 1.0, 1.0]"
      ],
      "metadata": {
        "id": "3_Hngo_cBpeq"
      },
      "execution_count": 470,
      "outputs": []
    },
    {
      "cell_type": "code",
      "source": [
        "for k in range(30):\n",
        "\n",
        "  # forward pass\n",
        "  ypred = [n(x) for x in xs]\n",
        "  loss = sum((yout*-1 + yget)**2 for yget, yout in zip(ys, ypred))\n",
        "\n",
        "  for p in n.parameters():\n",
        "    p.grad = 0\n",
        "\n",
        "  # backward pass\n",
        "  loss.backward()\n",
        "\n",
        "  # update\n",
        "  for p in n.parameters():\n",
        "    p.data += -0.05 * p.grad\n",
        "\n",
        "  # status\n",
        "  print(k, loss.data)"
      ],
      "metadata": {
        "colab": {
          "base_uri": "https://localhost:8080/"
        },
        "id": "qSvBvucCXlUs",
        "outputId": "d2b0dc0b-9f45-4aab-c412-9d0ea8951571"
      },
      "execution_count": 483,
      "outputs": [
        {
          "output_type": "stream",
          "name": "stdout",
          "text": [
            "0 0.001192194724404446\n",
            "1 0.0011887317146451561\n",
            "2 0.0011852886137643714\n",
            "3 0.0011818652511826821\n",
            "4 0.001178461458259796\n",
            "5 0.0011750770682671025\n",
            "6 0.0011717119163606108\n",
            "7 0.001168365839554561\n",
            "8 0.0011650386766952042\n",
            "9 0.0011617302684353242\n",
            "10 0.0011584404572089076\n",
            "11 0.0011551690872063786\n",
            "12 0.0011519160043502838\n",
            "13 0.0011486810562712853\n",
            "14 0.00114546409228457\n",
            "15 0.0011422649633666731\n",
            "16 0.0011390835221327014\n",
            "17 0.0011359196228138777\n",
            "18 0.0011327731212355111\n",
            "19 0.0011296438747952467\n",
            "20 0.0011265317424417592\n",
            "21 0.0011234365846537193\n",
            "22 0.0011203582634191902\n",
            "23 0.0011172966422152107\n",
            "24 0.0011142515859878597\n",
            "25 0.0011112229611325792\n",
            "26 0.0011082106354747758\n",
            "27 0.0011052144782507532\n",
            "28 0.00110223436008905\n",
            "29 0.0010992701529918593\n"
          ]
        }
      ]
    },
    {
      "cell_type": "code",
      "source": [
        "ypred"
      ],
      "metadata": {
        "colab": {
          "base_uri": "https://localhost:8080/"
        },
        "id": "Zxwq_crHYIJw",
        "outputId": "ce4e56af-3a76-4294-a793-b4a40baaf1b5"
      },
      "execution_count": 484,
      "outputs": [
        {
          "output_type": "execute_result",
          "data": {
            "text/plain": [
              "[Value(data=0.9936133355738661),\n",
              " Value(data=-0.9725981928154263),\n",
              " Value(data=0.9896174638360755),\n",
              " Value(data=0.9858640679004157)]"
            ]
          },
          "metadata": {},
          "execution_count": 484
        }
      ]
    },
    {
      "cell_type": "code",
      "source": [
        "ypred = [n(x) for x in xs]\n",
        "loss = sum((yout*-1 + yget)**2 for yget, yout in zip(ys, ypred))\n",
        "loss"
      ],
      "metadata": {
        "colab": {
          "base_uri": "https://localhost:8080/"
        },
        "id": "8F-bPHe-UsN3",
        "outputId": "108bf2d5-38ea-49f0-fe7a-15930485109d"
      },
      "execution_count": 454,
      "outputs": [
        {
          "output_type": "execute_result",
          "data": {
            "text/plain": [
              "Value(data=3.243313338111271e-05)"
            ]
          },
          "metadata": {},
          "execution_count": 454
        }
      ]
    },
    {
      "cell_type": "code",
      "source": [
        "ypred"
      ],
      "metadata": {
        "colab": {
          "base_uri": "https://localhost:8080/"
        },
        "id": "cqbCVj4PV1av",
        "outputId": "dd4caf06-9ff7-4d27-a6d4-3dee9245ec4f"
      },
      "execution_count": 455,
      "outputs": [
        {
          "output_type": "execute_result",
          "data": {
            "text/plain": [
              "[Value(data=0.9999999999999986),\n",
              " Value(data=-0.9943049904845459),\n",
              " Value(data=0.9999999999910646),\n",
              " Value(data=0.9999999999166266)]"
            ]
          },
          "metadata": {},
          "execution_count": 455
        }
      ]
    },
    {
      "cell_type": "code",
      "source": [
        "loss.backward()"
      ],
      "metadata": {
        "id": "WmO7pzTIE1Zc"
      },
      "execution_count": 452,
      "outputs": []
    },
    {
      "cell_type": "code",
      "source": [
        "for p in n.parameters():\n",
        "  p.data += -0.1 * p.grad"
      ],
      "metadata": {
        "id": "yMAL28D4S7sh"
      },
      "execution_count": 453,
      "outputs": []
    },
    {
      "cell_type": "code",
      "source": [
        "n.parameters()"
      ],
      "metadata": {
        "colab": {
          "base_uri": "https://localhost:8080/"
        },
        "id": "9A_I8zFTXC6X",
        "outputId": "a90e775f-5d10-4b17-d024-d7b38cf82fe0"
      },
      "execution_count": 457,
      "outputs": [
        {
          "output_type": "execute_result",
          "data": {
            "text/plain": [
              "[Value(data=-0.6620721047159956),\n",
              " Value(data=0.4616569247884869),\n",
              " Value(data=1.1325702465007172),\n",
              " Value(data=-0.6761712397131845),\n",
              " Value(data=-2.932902083103186),\n",
              " Value(data=3.506172407750124),\n",
              " Value(data=-0.3555650080810067),\n",
              " Value(data=-0.8065905434868387),\n",
              " Value(data=1.2333817430120775),\n",
              " Value(data=-0.8954716750182816),\n",
              " Value(data=0.8411560047045518),\n",
              " Value(data=-0.5278417422462356),\n",
              " Value(data=1.1035105216342893),\n",
              " Value(data=0.3921590827293167),\n",
              " Value(data=-0.8116653321215372),\n",
              " Value(data=-0.38324902400689054),\n",
              " Value(data=-1.3206050363656936),\n",
              " Value(data=-0.8448092806522999),\n",
              " Value(data=2.400730552830492),\n",
              " Value(data=1.5774622452925184),\n",
              " Value(data=-0.4746919589225234),\n",
              " Value(data=-0.3671331940492184),\n",
              " Value(data=0.6937905826757361),\n",
              " Value(data=-1.565458272325447),\n",
              " Value(data=-0.2043800221335644),\n",
              " Value(data=0.02922422194064485),\n",
              " Value(data=-0.8454766786344141),\n",
              " Value(data=0.7346322182684681),\n",
              " Value(data=1.0516708806590456),\n",
              " Value(data=-0.37838653714327486),\n",
              " Value(data=-0.5664669520086084),\n",
              " Value(data=1.0439094500007966),\n",
              " Value(data=0.3687153086730214),\n",
              " Value(data=-0.799189605813505),\n",
              " Value(data=-0.3407603006201448),\n",
              " Value(data=-0.467212851600052),\n",
              " Value(data=-7.681293234283251),\n",
              " Value(data=4.016900709266119),\n",
              " Value(data=-3.424883068271094),\n",
              " Value(data=-4.506265506198772),\n",
              " Value(data=4.892418507415033)]"
            ]
          },
          "metadata": {},
          "execution_count": 457
        }
      ]
    }
  ]
}